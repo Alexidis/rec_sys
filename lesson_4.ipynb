{
 "cells": [
  {
   "cell_type": "markdown",
   "id": "de8539c3",
   "metadata": {},
   "source": [
    "1. Перенесите функции prefilter_items и postfilter_items из вебинара в модуль src.utils.py\n",
    "1. Реализуйте функции get_similar_items_recommendation, get_similar_users_recommendation (они разбирались на вебинаре) и переместите в src.recommenders.py\n",
    "1. Проверьте, что все модули корректно импортируются"
   ]
  },
  {
   "cell_type": "code",
   "execution_count": 15,
   "id": "e22fa0c6",
   "metadata": {},
   "outputs": [],
   "source": [
    "import pandas as pd\n",
    "import numpy as np\n",
    "import matplotlib.pyplot as plt\n",
    "%matplotlib inline\n",
    "\n",
    "# Для работы с матрицами\n",
    "\n",
    "from scipy.sparse import csr_matrix\n",
    "\n",
    "# Матричная факторизация\n",
    "from implicit.als import AlternatingLeastSquares\n",
    "from implicit.nearest_neighbours import bm25_weight\n",
    "\n",
    "# Функции из 1-ого вебинара\n",
    "import os, sys\n",
    "\n",
    "module_path = os.path.abspath(os.path.join(os.pardir))\n",
    "if module_path not in sys.path:\n",
    "    sys.path.append(module_path)\n",
    "\n",
    "from src.utils import prefilter_items, id_converter\n",
    "from src.recommenders import get_similar_users_recommendation, get_similar_item"
   ]
  },
  {
   "cell_type": "code",
   "execution_count": 16,
   "id": "d1d35f36",
   "metadata": {},
   "outputs": [
    {
     "data": {
      "text/plain": "   user_id    basket_id  day  item_id  quantity  sales_value  store_id  \\\n0     2375  26984851472    1  1004906         1         1.39       364   \n1     2375  26984851472    1  1033142         1         0.82       364   \n\n   retail_disc  trans_time  week_no  coupon_disc  coupon_match_disc  \n0         -0.6        1631        1          0.0                0.0  \n1          0.0        1631        1          0.0                0.0  ",
      "text/html": "<div>\n<style scoped>\n    .dataframe tbody tr th:only-of-type {\n        vertical-align: middle;\n    }\n\n    .dataframe tbody tr th {\n        vertical-align: top;\n    }\n\n    .dataframe thead th {\n        text-align: right;\n    }\n</style>\n<table border=\"1\" class=\"dataframe\">\n  <thead>\n    <tr style=\"text-align: right;\">\n      <th></th>\n      <th>user_id</th>\n      <th>basket_id</th>\n      <th>day</th>\n      <th>item_id</th>\n      <th>quantity</th>\n      <th>sales_value</th>\n      <th>store_id</th>\n      <th>retail_disc</th>\n      <th>trans_time</th>\n      <th>week_no</th>\n      <th>coupon_disc</th>\n      <th>coupon_match_disc</th>\n    </tr>\n  </thead>\n  <tbody>\n    <tr>\n      <th>0</th>\n      <td>2375</td>\n      <td>26984851472</td>\n      <td>1</td>\n      <td>1004906</td>\n      <td>1</td>\n      <td>1.39</td>\n      <td>364</td>\n      <td>-0.6</td>\n      <td>1631</td>\n      <td>1</td>\n      <td>0.0</td>\n      <td>0.0</td>\n    </tr>\n    <tr>\n      <th>1</th>\n      <td>2375</td>\n      <td>26984851472</td>\n      <td>1</td>\n      <td>1033142</td>\n      <td>1</td>\n      <td>0.82</td>\n      <td>364</td>\n      <td>0.0</td>\n      <td>1631</td>\n      <td>1</td>\n      <td>0.0</td>\n      <td>0.0</td>\n    </tr>\n  </tbody>\n</table>\n</div>"
     },
     "execution_count": 16,
     "metadata": {},
     "output_type": "execute_result"
    }
   ],
   "source": [
    "data = pd.read_csv('./input/transaction_data.csv')\n",
    "\n",
    "data.columns = [col.lower() for col in data.columns]\n",
    "data.rename(columns={'household_key': 'user_id',\n",
    "                    'product_id': 'item_id'},\n",
    "            inplace=True)\n",
    "\n",
    "test_size_weeks = 3\n",
    "current_week = data['week_no'].max()\n",
    "test_week =  current_week - test_size_weeks\n",
    "\n",
    "data_train = data[data['week_no'] < test_week]\n",
    "data_test = data[data['week_no'] >= test_week]\n",
    "\n",
    "data_train.head(2)"
   ]
  },
  {
   "cell_type": "code",
   "execution_count": 17,
   "id": "c5044c20",
   "metadata": {},
   "outputs": [
    {
     "data": {
      "text/plain": "   item_id  manufacturer    department     brand            commodity_desc  \\\n0    25671             2       GROCERY  National                  FRZN ICE   \n1    26081             2  MISC. TRANS.  National  NO COMMODITY DESCRIPTION   \n\n            sub_commodity_desc curr_size_of_product  \n0          ICE - CRUSHED/CUBED                22 LB  \n1  NO SUBCOMMODITY DESCRIPTION                       ",
      "text/html": "<div>\n<style scoped>\n    .dataframe tbody tr th:only-of-type {\n        vertical-align: middle;\n    }\n\n    .dataframe tbody tr th {\n        vertical-align: top;\n    }\n\n    .dataframe thead th {\n        text-align: right;\n    }\n</style>\n<table border=\"1\" class=\"dataframe\">\n  <thead>\n    <tr style=\"text-align: right;\">\n      <th></th>\n      <th>item_id</th>\n      <th>manufacturer</th>\n      <th>department</th>\n      <th>brand</th>\n      <th>commodity_desc</th>\n      <th>sub_commodity_desc</th>\n      <th>curr_size_of_product</th>\n    </tr>\n  </thead>\n  <tbody>\n    <tr>\n      <th>0</th>\n      <td>25671</td>\n      <td>2</td>\n      <td>GROCERY</td>\n      <td>National</td>\n      <td>FRZN ICE</td>\n      <td>ICE - CRUSHED/CUBED</td>\n      <td>22 LB</td>\n    </tr>\n    <tr>\n      <th>1</th>\n      <td>26081</td>\n      <td>2</td>\n      <td>MISC. TRANS.</td>\n      <td>National</td>\n      <td>NO COMMODITY DESCRIPTION</td>\n      <td>NO SUBCOMMODITY DESCRIPTION</td>\n      <td></td>\n    </tr>\n  </tbody>\n</table>\n</div>"
     },
     "execution_count": 17,
     "metadata": {},
     "output_type": "execute_result"
    }
   ],
   "source": [
    "item_features = pd.read_csv('./input/product.csv')\n",
    "item_features.columns = [col.lower() for col in item_features.columns]\n",
    "item_features.rename(columns={'product_id': 'item_id'}, inplace=True)\n",
    "\n",
    "item_features.head(2)"
   ]
  },
  {
   "cell_type": "code",
   "execution_count": 18,
   "id": "7739b2b4",
   "metadata": {},
   "outputs": [
    {
     "name": "stdout",
     "output_type": "stream",
     "text": [
      "Decreased # items from 90386 to 4910\n"
     ]
    }
   ],
   "source": [
    "n_items_before = data_train['item_id'].nunique()\n",
    "\n",
    "data_train_f = prefilter_items(data_train, item_features, current_week, n_popular=5000)\n",
    "\n",
    "n_items_after = data_train_f['item_id'].nunique()\n",
    "print(f'Decreased # items from {n_items_before} to {n_items_after}')"
   ]
  },
  {
   "cell_type": "code",
   "execution_count": 19,
   "id": "6cc01600",
   "metadata": {},
   "outputs": [
    {
     "data": {
      "text/plain": "   user_id                                             actual\n0        1  [-1, 856942, 883616, 911454, 940947, 974327, 9...\n1        2  [885023, 1106523, -1, 1123496, 916122, 940947,...",
      "text/html": "<div>\n<style scoped>\n    .dataframe tbody tr th:only-of-type {\n        vertical-align: middle;\n    }\n\n    .dataframe tbody tr th {\n        vertical-align: top;\n    }\n\n    .dataframe thead th {\n        text-align: right;\n    }\n</style>\n<table border=\"1\" class=\"dataframe\">\n  <thead>\n    <tr style=\"text-align: right;\">\n      <th></th>\n      <th>user_id</th>\n      <th>actual</th>\n    </tr>\n  </thead>\n  <tbody>\n    <tr>\n      <th>0</th>\n      <td>1</td>\n      <td>[-1, 856942, 883616, 911454, 940947, 974327, 9...</td>\n    </tr>\n    <tr>\n      <th>1</th>\n      <td>2</td>\n      <td>[885023, 1106523, -1, 1123496, 916122, 940947,...</td>\n    </tr>\n  </tbody>\n</table>\n</div>"
     },
     "execution_count": 19,
     "metadata": {},
     "output_type": "execute_result"
    }
   ],
   "source": [
    "result = data_train_f.groupby('user_id')['item_id'].unique().reset_index()\n",
    "result.columns=['user_id', 'actual']\n",
    "result.head(2)"
   ]
  },
  {
   "cell_type": "code",
   "execution_count": 20,
   "id": "ef751f22",
   "metadata": {},
   "outputs": [],
   "source": [
    "user_item_matrix = pd.pivot_table(data_train_f, index='user_id', columns='item_id',\n",
    "                                  values='quantity', aggfunc='sum', fill_value=0)\n",
    "\n",
    "user_item_matrix = user_item_matrix.astype(float)\n",
    "\n",
    "id_to_item_value, id_to_user_value, item_value_to_id, user_value_to_id = id_converter(user_item_matrix)\n",
    "\n",
    "f_items = item_value_to_id[-1]"
   ]
  },
  {
   "cell_type": "code",
   "execution_count": 21,
   "outputs": [],
   "source": [
    "user_item_matrix = bm25_weight(user_item_matrix.T).T  # Применяется к item-user матрице !\n",
    "\n",
    "sparse_uim = csr_matrix(user_item_matrix).tocsr()\n",
    "# sparse_ium = csr_matrix(user_item_matrix).T.tocsr()"
   ],
   "metadata": {
    "collapsed": false,
    "pycharm": {
     "name": "#%%\n"
    }
   }
  },
  {
   "cell_type": "code",
   "execution_count": 22,
   "id": "753e4e33",
   "metadata": {},
   "outputs": [
    {
     "data": {
      "text/plain": "  0%|          | 0/15 [00:00<?, ?it/s]",
      "application/vnd.jupyter.widget-view+json": {
       "version_major": 2,
       "version_minor": 0,
       "model_id": "192bd7cf8d91467796ab21523d7e0218"
      }
     },
     "metadata": {},
     "output_type": "display_data"
    }
   ],
   "source": [
    "als_model = AlternatingLeastSquares(factors=100,\n",
    "                                    regularization=0.001,\n",
    "                                    iterations=15,\n",
    "                                    calculate_training_loss=True,\n",
    "                                    num_threads=4)\n",
    "\n",
    "als_model.fit(sparse_uim , show_progress=True)"
   ]
  },
  {
   "cell_type": "code",
   "execution_count": 23,
   "id": "b0656622",
   "metadata": {},
   "outputs": [],
   "source": [
    "result['q_mean_als'] = result['user_id'].apply(lambda x: [id_to_item_value[ids]\n",
    "                                                          for ids in als_model.recommend(userid=user_value_to_id[x],\n",
    "                                                                                         user_items=sparse_uim[user_value_to_id[x]],\n",
    "                                                                                         N=5,\n",
    "                                                                                         filter_already_liked_items=False,\n",
    "                                                                                         filter_items=[f_items, ],\n",
    "                                                                                         recalculate_user=True)[0]])"
   ]
  },
  {
   "cell_type": "code",
   "execution_count": 24,
   "outputs": [
    {
     "data": {
      "text/plain": "      user_id                                             actual  \\\n0           1  [-1, 856942, 883616, 911454, 940947, 974327, 9...   \n1           2  [885023, 1106523, -1, 1123496, 916122, 940947,...   \n2           3  [826385, 827656, 831063, 854405, 862799, 89962...   \n3           4  [-1, 9835509, 936470, 6391541, 846417, 998119,...   \n4           5  [932631, 969846, 994577, -1, 829621, 1004385, ...   \n...       ...                                                ...   \n2460     2496  [865511, 907631, -1, 995876, 5569230, 8065410,...   \n2461     2497  [870515, 1067606, 8090532, 8090537, -1, 823721...   \n2462     2498  [-1, 1034956, 987044, 993044, 1051283, 1077745...   \n2463     2499  [883202, 899624, 5591170, 854042, -1, 1096635,...   \n2464     2500  [829349, -1, 877210, 887744, 1048068, 1063739,...   \n\n                                          q_mean_als  \n0        [8090541, 5577022, 856942, 9527558, 883616]  \n1        [1103898, 7410217, 916122, 826835, 1139142]  \n2       [1075979, 998206, 10456568, 1092937, 867389]  \n3        [936470, 7431408, 6391541, 891423, 5570830]  \n4       [1112387, 969846, 1003031, 1065017, 1004385]  \n...                                              ...  \n2460  [844179, 1044078, 1070702, 12810393, 12731432]  \n2461    [1079067, 1081177, 1038663, 7025204, 845208]  \n2462   [1030981, 1022053, 1125123, 7144132, 1100379]  \n2463       [941797, 907631, 5570048, 944139, 890695]  \n2464   [9268695, 13115915, 1065538, 1063739, 988835]  \n\n[2465 rows x 3 columns]",
      "text/html": "<div>\n<style scoped>\n    .dataframe tbody tr th:only-of-type {\n        vertical-align: middle;\n    }\n\n    .dataframe tbody tr th {\n        vertical-align: top;\n    }\n\n    .dataframe thead th {\n        text-align: right;\n    }\n</style>\n<table border=\"1\" class=\"dataframe\">\n  <thead>\n    <tr style=\"text-align: right;\">\n      <th></th>\n      <th>user_id</th>\n      <th>actual</th>\n      <th>q_mean_als</th>\n    </tr>\n  </thead>\n  <tbody>\n    <tr>\n      <th>0</th>\n      <td>1</td>\n      <td>[-1, 856942, 883616, 911454, 940947, 974327, 9...</td>\n      <td>[8090541, 5577022, 856942, 9527558, 883616]</td>\n    </tr>\n    <tr>\n      <th>1</th>\n      <td>2</td>\n      <td>[885023, 1106523, -1, 1123496, 916122, 940947,...</td>\n      <td>[1103898, 7410217, 916122, 826835, 1139142]</td>\n    </tr>\n    <tr>\n      <th>2</th>\n      <td>3</td>\n      <td>[826385, 827656, 831063, 854405, 862799, 89962...</td>\n      <td>[1075979, 998206, 10456568, 1092937, 867389]</td>\n    </tr>\n    <tr>\n      <th>3</th>\n      <td>4</td>\n      <td>[-1, 9835509, 936470, 6391541, 846417, 998119,...</td>\n      <td>[936470, 7431408, 6391541, 891423, 5570830]</td>\n    </tr>\n    <tr>\n      <th>4</th>\n      <td>5</td>\n      <td>[932631, 969846, 994577, -1, 829621, 1004385, ...</td>\n      <td>[1112387, 969846, 1003031, 1065017, 1004385]</td>\n    </tr>\n    <tr>\n      <th>...</th>\n      <td>...</td>\n      <td>...</td>\n      <td>...</td>\n    </tr>\n    <tr>\n      <th>2460</th>\n      <td>2496</td>\n      <td>[865511, 907631, -1, 995876, 5569230, 8065410,...</td>\n      <td>[844179, 1044078, 1070702, 12810393, 12731432]</td>\n    </tr>\n    <tr>\n      <th>2461</th>\n      <td>2497</td>\n      <td>[870515, 1067606, 8090532, 8090537, -1, 823721...</td>\n      <td>[1079067, 1081177, 1038663, 7025204, 845208]</td>\n    </tr>\n    <tr>\n      <th>2462</th>\n      <td>2498</td>\n      <td>[-1, 1034956, 987044, 993044, 1051283, 1077745...</td>\n      <td>[1030981, 1022053, 1125123, 7144132, 1100379]</td>\n    </tr>\n    <tr>\n      <th>2463</th>\n      <td>2499</td>\n      <td>[883202, 899624, 5591170, 854042, -1, 1096635,...</td>\n      <td>[941797, 907631, 5570048, 944139, 890695]</td>\n    </tr>\n    <tr>\n      <th>2464</th>\n      <td>2500</td>\n      <td>[829349, -1, 877210, 887744, 1048068, 1063739,...</td>\n      <td>[9268695, 13115915, 1065538, 1063739, 988835]</td>\n    </tr>\n  </tbody>\n</table>\n<p>2465 rows × 3 columns</p>\n</div>"
     },
     "execution_count": 24,
     "metadata": {},
     "output_type": "execute_result"
    }
   ],
   "source": [
    "result"
   ],
   "metadata": {
    "collapsed": false,
    "pycharm": {
     "name": "#%%\n"
    }
   }
  },
  {
   "cell_type": "code",
   "execution_count": 25,
   "outputs": [
    {
     "data": {
      "text/plain": "  0%|          | 0/4910 [00:00<?, ?it/s]",
      "application/vnd.jupyter.widget-view+json": {
       "version_major": 2,
       "version_minor": 0,
       "model_id": "e6610c6ad1f2498b91a01dce567a36cc"
      }
     },
     "metadata": {},
     "output_type": "display_data"
    }
   ],
   "source": [
    "sim_user_rec = get_similar_users_recommendation(result['user_id'], id_to_item_value, user_value_to_id, id_to_user_value, sparse_uim, f_items, als_model)\n",
    "result = result.merge(sim_user_rec, 'left', on='user_id')"
   ],
   "metadata": {
    "collapsed": false,
    "pycharm": {
     "name": "#%%\n"
    }
   }
  },
  {
   "cell_type": "code",
   "execution_count": 26,
   "outputs": [],
   "source": [
    "result['sim_item_reс'] = result['actual'].apply(lambda x: get_similar_item(als_model, x, id_to_item_value, item_value_to_id, f_items))"
   ],
   "metadata": {
    "collapsed": false,
    "pycharm": {
     "name": "#%%\n"
    }
   }
  },
  {
   "cell_type": "code",
   "execution_count": 27,
   "id": "f69d0c34",
   "metadata": {
    "pycharm": {
     "name": "#%%\n"
    }
   },
   "outputs": [
    {
     "data": {
      "text/plain": "      user_id                                             actual  \\\n0           1  [-1, 856942, 883616, 911454, 940947, 974327, 9...   \n1           2  [885023, 1106523, -1, 1123496, 916122, 940947,...   \n2           3  [826385, 827656, 831063, 854405, 862799, 89962...   \n3           4  [-1, 9835509, 936470, 6391541, 846417, 998119,...   \n4           5  [932631, 969846, 994577, -1, 829621, 1004385, ...   \n...       ...                                                ...   \n2460     2496  [865511, 907631, -1, 995876, 5569230, 8065410,...   \n2461     2497  [870515, 1067606, 8090532, 8090537, -1, 823721...   \n2462     2498  [-1, 1034956, 987044, 993044, 1051283, 1077745...   \n2463     2499  [883202, 899624, 5591170, 854042, -1, 1096635,...   \n2464     2500  [829349, -1, 877210, 887744, 1048068, 1063739,...   \n\n                                          q_mean_als  \\\n0        [8090541, 5577022, 856942, 9527558, 883616]   \n1        [1103898, 7410217, 916122, 826835, 1139142]   \n2       [1075979, 998206, 10456568, 1092937, 867389]   \n3        [936470, 7431408, 6391541, 891423, 5570830]   \n4       [1112387, 969846, 1003031, 1065017, 1004385]   \n...                                              ...   \n2460  [844179, 1044078, 1070702, 12810393, 12731432]   \n2461    [1079067, 1081177, 1038663, 7025204, 845208]   \n2462   [1030981, 1022053, 1125123, 7144132, 1100379]   \n2463       [941797, 907631, 5570048, 944139, 890695]   \n2464   [9268695, 13115915, 1065538, 1063739, 988835]   \n\n                              sim_user_items_recommends  \\\n0     [847186, 1006342, 1030577, 1091901, 1124029, 8...   \n1     [825343, 844179, 876948, 916122, 920109, 1044078]   \n2     [832678, 841762, 899624, 1059902, 1066783, 106...   \n3     [824180, 838186, 947201, 1014292, 1027642, 105...   \n4     [864893, 903529, 932631, 957951, 969846, 1007136]   \n...                                                 ...   \n2460   [826385, 829955, 831181, 866548, 893867, 959821]   \n2461  [833241, 862866, 912817, 956125, 1008814, 1016...   \n2462  [825882, 881249, 892048, 919766, 938381, 1018818]   \n2463  [883665, 898869, 944139, 1028705, 1105301, 556...   \n2464  [880050, 911454, 1092937, 1103902, 1126899, 11...   \n\n                                  sim_item_reс  \n0     [819969, 830503, 835098, 835530, 837005]  \n1     [819400, 819978, 831628, 834117, 837270]  \n2     [823704, 827667, 834117, 839419, 845462]  \n3     [827667, 866211, 886395, 899624, 908318]  \n4     [822049, 854852, 916122, 921438, 944137]  \n...                                        ...  \n2460  [823721, 825343, 829291, 831628, 832678]  \n2461  [819978, 820321, 823721, 823775, 825006]  \n2462  [823704, 823721, 824180, 832678, 839243]  \n2463  [819978, 823721, 825006, 829001, 832678]  \n2464  [823990, 830526, 833724, 839419, 844179]  \n\n[2465 rows x 5 columns]",
      "text/html": "<div>\n<style scoped>\n    .dataframe tbody tr th:only-of-type {\n        vertical-align: middle;\n    }\n\n    .dataframe tbody tr th {\n        vertical-align: top;\n    }\n\n    .dataframe thead th {\n        text-align: right;\n    }\n</style>\n<table border=\"1\" class=\"dataframe\">\n  <thead>\n    <tr style=\"text-align: right;\">\n      <th></th>\n      <th>user_id</th>\n      <th>actual</th>\n      <th>q_mean_als</th>\n      <th>sim_user_items_recommends</th>\n      <th>sim_item_reс</th>\n    </tr>\n  </thead>\n  <tbody>\n    <tr>\n      <th>0</th>\n      <td>1</td>\n      <td>[-1, 856942, 883616, 911454, 940947, 974327, 9...</td>\n      <td>[8090541, 5577022, 856942, 9527558, 883616]</td>\n      <td>[847186, 1006342, 1030577, 1091901, 1124029, 8...</td>\n      <td>[819969, 830503, 835098, 835530, 837005]</td>\n    </tr>\n    <tr>\n      <th>1</th>\n      <td>2</td>\n      <td>[885023, 1106523, -1, 1123496, 916122, 940947,...</td>\n      <td>[1103898, 7410217, 916122, 826835, 1139142]</td>\n      <td>[825343, 844179, 876948, 916122, 920109, 1044078]</td>\n      <td>[819400, 819978, 831628, 834117, 837270]</td>\n    </tr>\n    <tr>\n      <th>2</th>\n      <td>3</td>\n      <td>[826385, 827656, 831063, 854405, 862799, 89962...</td>\n      <td>[1075979, 998206, 10456568, 1092937, 867389]</td>\n      <td>[832678, 841762, 899624, 1059902, 1066783, 106...</td>\n      <td>[823704, 827667, 834117, 839419, 845462]</td>\n    </tr>\n    <tr>\n      <th>3</th>\n      <td>4</td>\n      <td>[-1, 9835509, 936470, 6391541, 846417, 998119,...</td>\n      <td>[936470, 7431408, 6391541, 891423, 5570830]</td>\n      <td>[824180, 838186, 947201, 1014292, 1027642, 105...</td>\n      <td>[827667, 866211, 886395, 899624, 908318]</td>\n    </tr>\n    <tr>\n      <th>4</th>\n      <td>5</td>\n      <td>[932631, 969846, 994577, -1, 829621, 1004385, ...</td>\n      <td>[1112387, 969846, 1003031, 1065017, 1004385]</td>\n      <td>[864893, 903529, 932631, 957951, 969846, 1007136]</td>\n      <td>[822049, 854852, 916122, 921438, 944137]</td>\n    </tr>\n    <tr>\n      <th>...</th>\n      <td>...</td>\n      <td>...</td>\n      <td>...</td>\n      <td>...</td>\n      <td>...</td>\n    </tr>\n    <tr>\n      <th>2460</th>\n      <td>2496</td>\n      <td>[865511, 907631, -1, 995876, 5569230, 8065410,...</td>\n      <td>[844179, 1044078, 1070702, 12810393, 12731432]</td>\n      <td>[826385, 829955, 831181, 866548, 893867, 959821]</td>\n      <td>[823721, 825343, 829291, 831628, 832678]</td>\n    </tr>\n    <tr>\n      <th>2461</th>\n      <td>2497</td>\n      <td>[870515, 1067606, 8090532, 8090537, -1, 823721...</td>\n      <td>[1079067, 1081177, 1038663, 7025204, 845208]</td>\n      <td>[833241, 862866, 912817, 956125, 1008814, 1016...</td>\n      <td>[819978, 820321, 823721, 823775, 825006]</td>\n    </tr>\n    <tr>\n      <th>2462</th>\n      <td>2498</td>\n      <td>[-1, 1034956, 987044, 993044, 1051283, 1077745...</td>\n      <td>[1030981, 1022053, 1125123, 7144132, 1100379]</td>\n      <td>[825882, 881249, 892048, 919766, 938381, 1018818]</td>\n      <td>[823704, 823721, 824180, 832678, 839243]</td>\n    </tr>\n    <tr>\n      <th>2463</th>\n      <td>2499</td>\n      <td>[883202, 899624, 5591170, 854042, -1, 1096635,...</td>\n      <td>[941797, 907631, 5570048, 944139, 890695]</td>\n      <td>[883665, 898869, 944139, 1028705, 1105301, 556...</td>\n      <td>[819978, 823721, 825006, 829001, 832678]</td>\n    </tr>\n    <tr>\n      <th>2464</th>\n      <td>2500</td>\n      <td>[829349, -1, 877210, 887744, 1048068, 1063739,...</td>\n      <td>[9268695, 13115915, 1065538, 1063739, 988835]</td>\n      <td>[880050, 911454, 1092937, 1103902, 1126899, 11...</td>\n      <td>[823990, 830526, 833724, 839419, 844179]</td>\n    </tr>\n  </tbody>\n</table>\n<p>2465 rows × 5 columns</p>\n</div>"
     },
     "execution_count": 27,
     "metadata": {},
     "output_type": "execute_result"
    }
   ],
   "source": [
    "result"
   ]
  }
 ],
 "metadata": {
  "kernelspec": {
   "display_name": "Python 3",
   "language": "python",
   "name": "python3"
  },
  "language_info": {
   "codemirror_mode": {
    "name": "ipython",
    "version": 3
   },
   "file_extension": ".py",
   "mimetype": "text/x-python",
   "name": "python",
   "nbconvert_exporter": "python",
   "pygments_lexer": "ipython3",
   "version": "3.8.6"
  },
  "varInspector": {
   "cols": {
    "lenName": 16,
    "lenType": 16,
    "lenVar": 40
   },
   "kernels_config": {
    "python": {
     "delete_cmd_postfix": "",
     "delete_cmd_prefix": "del ",
     "library": "var_list.py",
     "varRefreshCmd": "print(var_dic_list())"
    },
    "r": {
     "delete_cmd_postfix": ") ",
     "delete_cmd_prefix": "rm(",
     "library": "var_list.r",
     "varRefreshCmd": "cat(var_dic_list()) "
    }
   },
   "types_to_exclude": [
    "module",
    "function",
    "builtin_function_or_method",
    "instance",
    "_Feature"
   ],
   "window_display": false
  }
 },
 "nbformat": 4,
 "nbformat_minor": 5
}