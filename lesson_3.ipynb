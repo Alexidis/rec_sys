{
 "cells": [
  {
   "cell_type": "markdown",
   "id": "ccdc8184",
   "metadata": {},
   "source": [
    "### Задание 1\n",
    "Вспомним прошлый вебинар, мы рассматривали User-User рекомендации и Item-Item рекомендации. \n",
    "Чем они отличаются и чем они похожи?  \n",
    "Если есть функция item_item_rec(interaction_matrix). Можно ли использовать эту функцию для user_user_rec?"
   ]
  },
  {
   "cell_type": "markdown",
   "id": "303a7854",
   "metadata": {},
   "source": [
    "User-User - объект понравится пользователю, если он понравился похожим пользователям.  \n",
    "Item-Item - объект понравится пользователю, если ему понравились похожие объекты  \n",
    "\n",
    "1. Сходство:\n",
    "    1. в обоих случаях пытаемся понять понравится ли товар пользователю  \n",
    "1. Различие \n",
    "    1. В первом случае говорим что объект понравиться если \n",
    "       этот объект понравился пользователям похожим того для которого производится поиск, а \n",
    "       во втором случае говорим, что понравится если пользователю понравился товар похожий на тот для которого производится поиск.\n",
    "    1. У User-User обычно работает дольше из-за того что пользователей обычно больше чем товаров\n",
    "    1. Item-Item более точный потому что пользоватей обычно больше чем товаров\n",
    "    \n",
    "Не понял вопросы \"Если есть функция item_item_rec(interaction_matrix). Можно ли использовать эту функцию для user_user_rec?\" "
   ]
  },
  {
   "cell_type": "markdown",
   "id": "81de03f4",
   "metadata": {},
   "source": [
    "### Задание 2\n",
    "В чем принципиальные отличия item-item рекомендаций от ALS?  \n",
    "Приведите 3 примера весов (те, которых не было на вебинаре: сумма покупок, количество покупок - неинтересно) user-item матрицы для задачи рекомендаций товаров"
   ]
  },
  {
   "cell_type": "markdown",
   "id": "0ebec607",
   "metadata": {},
   "source": [
    "item-item - это \"направление\" поиска, а ALS алгоритм поиска.\n",
    "\n",
    "Примеры весов:\n",
    "1. Лайки/дизлайки (реакции)  \n",
    "1. Коэффициент цитируемости \n",
    "1. Количество просмотров/прослушиваний и т.д."
   ]
  },
  {
   "cell_type": "markdown",
   "id": "00f73dc2",
   "metadata": {},
   "source": [
    "### Задание 3\n",
    "Какие ограничения есть у ALS? (Тип информации, линейность/нелинейность факторов и т д)"
   ]
  },
  {
   "cell_type": "markdown",
   "id": "9515327d",
   "metadata": {},
   "source": [
    "Не понял вопроса"
   ]
  },
  {
   "cell_type": "code",
   "execution_count": 1,
   "id": "1818a974",
   "metadata": {},
   "outputs": [],
   "source": [
    "import pandas as pd\n",
    "import numpy as np\n",
    "import matplotlib.pyplot as plt\n",
    "%matplotlib inline\n",
    "\n",
    "# Для работы с матрицами\n",
    "from scipy.sparse import csr_matrix\n",
    "\n",
    "# Матричная факторизация\n",
    "from implicit.als import AlternatingLeastSquares\n",
    "from implicit.nearest_neighbours import bm25_weight, tfidf_weight\n",
    "\n",
    "# Функции из 1-ого вебинара\n",
    "import os, sys"
   ]
  },
  {
   "cell_type": "code",
   "execution_count": 2,
   "id": "94eb4e86",
   "metadata": {},
   "outputs": [],
   "source": [
    "def precision_at_k(recommended_list, bought_list, k=5):\n",
    "    \n",
    "    bought_list = np.array(bought_list)\n",
    "    recommended_list = np.array(recommended_list)\n",
    "    \n",
    "    bought_list = bought_list  # Тут нет [:k] !!\n",
    "    recommended_list = recommended_list[:k]\n",
    "    \n",
    "    flags = np.isin(bought_list, recommended_list)\n",
    "    \n",
    "    precision = flags.sum() / len(recommended_list)\n",
    "    \n",
    "    \n",
    "    return precision"
   ]
  },
  {
   "cell_type": "code",
   "execution_count": 3,
   "id": "5ebb6743",
   "metadata": {},
   "outputs": [],
   "source": [
    "def id_converter(C):\n",
    "    userids = C.index.values\n",
    "    itemids = C.columns.values\n",
    "\n",
    "    matrix_u_ids = np.arange(len(userids))\n",
    "    matrix_i_ids = np.arange(len(itemids))\n",
    "\n",
    "    id_to_itemid = dict(zip(matrix_i_ids, itemids))\n",
    "    id_to_userid = dict(zip(matrix_u_ids, userids))\n",
    "\n",
    "    itemid_to_id = dict(zip(itemids, matrix_i_ids))\n",
    "    userid_to_id = dict(zip(userids, matrix_u_ids))\n",
    "    \n",
    "    return id_to_itemid, id_to_userid, itemid_to_id, userid_to_id"
   ]
  },
  {
   "cell_type": "code",
   "execution_count": 4,
   "id": "63967e73",
   "metadata": {},
   "outputs": [],
   "source": [
    "def get_recommends(user, user_item, filter_items, model,  N=5):\n",
    "    ids, scores = model.recommend(userid=user, \n",
    "                                  user_items=user_item,   # на вход user-item matrix\n",
    "                                  N=N, \n",
    "                                  filter_already_liked_items=False, \n",
    "                                  filter_items=filter_items, \n",
    "                                  recalculate_user=True)\n",
    "    return ids"
   ]
  },
  {
   "cell_type": "code",
   "execution_count": 5,
   "id": "a1a01f48",
   "metadata": {},
   "outputs": [],
   "source": [
    "def als(data, values, arg_func, u_ids, filter_item, model_params):\n",
    "    user_item_matrix = pd.pivot_table(data, index='user_id', columns='item_id', \n",
    "                                      values=values, aggfunc=arg_func, fill_value=0)\n",
    "    user_item_matrix = user_item_matrix.astype(float)\n",
    "    sparse_uim = csr_matrix(user_item_matrix).tocsr()\n",
    "    id_to_itemid, id_to_userid, itemid_to_id, userid_to_id = id_converter(user_item_matrix)\n",
    "    \n",
    "    model = AlternatingLeastSquares(factors=model_params['factors'], \n",
    "                                    regularization=model_params['regularization'],\n",
    "                                    iterations=model_params['iterations'], \n",
    "                                    calculate_training_loss=model_params['calculate_training_loss'], \n",
    "                                    num_threads=model_params['num_threads'])\n",
    "     # На вход item-user matrix\n",
    "    model.fit(sparse_uim, show_progress=True)\n",
    "\n",
    "    f_items = itemid_to_id[filter_item]\n",
    "    res = u_ids.apply(lambda x: [id_to_itemid[id] for id in get_recommends(userid_to_id[x], \n",
    "                                                                           sparse_uim[userid_to_id[x]], \n",
    "                                                                           f_items,\n",
    "                                                                           model=model,\n",
    "                                                                           N=5)])\n",
    "    return res"
   ]
  },
  {
   "cell_type": "code",
   "execution_count": 6,
   "id": "d64d477e",
   "metadata": {},
   "outputs": [
    {
     "data": {
      "text/html": [
       "<div>\n",
       "<style scoped>\n",
       "    .dataframe tbody tr th:only-of-type {\n",
       "        vertical-align: middle;\n",
       "    }\n",
       "\n",
       "    .dataframe tbody tr th {\n",
       "        vertical-align: top;\n",
       "    }\n",
       "\n",
       "    .dataframe thead th {\n",
       "        text-align: right;\n",
       "    }\n",
       "</style>\n",
       "<table border=\"1\" class=\"dataframe\">\n",
       "  <thead>\n",
       "    <tr style=\"text-align: right;\">\n",
       "      <th></th>\n",
       "      <th>user_id</th>\n",
       "      <th>basket_id</th>\n",
       "      <th>day</th>\n",
       "      <th>item_id</th>\n",
       "      <th>quantity</th>\n",
       "      <th>sales_value</th>\n",
       "      <th>store_id</th>\n",
       "      <th>retail_disc</th>\n",
       "      <th>trans_time</th>\n",
       "      <th>week_no</th>\n",
       "      <th>coupon_disc</th>\n",
       "      <th>coupon_match_disc</th>\n",
       "    </tr>\n",
       "  </thead>\n",
       "  <tbody>\n",
       "    <tr>\n",
       "      <th>0</th>\n",
       "      <td>2375</td>\n",
       "      <td>26984851472</td>\n",
       "      <td>1</td>\n",
       "      <td>1004906</td>\n",
       "      <td>1</td>\n",
       "      <td>1.39</td>\n",
       "      <td>364</td>\n",
       "      <td>-0.6</td>\n",
       "      <td>1631</td>\n",
       "      <td>1</td>\n",
       "      <td>0.0</td>\n",
       "      <td>0.0</td>\n",
       "    </tr>\n",
       "    <tr>\n",
       "      <th>1</th>\n",
       "      <td>2375</td>\n",
       "      <td>26984851472</td>\n",
       "      <td>1</td>\n",
       "      <td>1033142</td>\n",
       "      <td>1</td>\n",
       "      <td>0.82</td>\n",
       "      <td>364</td>\n",
       "      <td>0.0</td>\n",
       "      <td>1631</td>\n",
       "      <td>1</td>\n",
       "      <td>0.0</td>\n",
       "      <td>0.0</td>\n",
       "    </tr>\n",
       "  </tbody>\n",
       "</table>\n",
       "</div>"
      ],
      "text/plain": [
       "   user_id    basket_id  day  item_id  quantity  sales_value  store_id  \\\n",
       "0     2375  26984851472    1  1004906         1         1.39       364   \n",
       "1     2375  26984851472    1  1033142         1         0.82       364   \n",
       "\n",
       "   retail_disc  trans_time  week_no  coupon_disc  coupon_match_disc  \n",
       "0         -0.6        1631        1          0.0                0.0  \n",
       "1          0.0        1631        1          0.0                0.0  "
      ]
     },
     "execution_count": 6,
     "metadata": {},
     "output_type": "execute_result"
    }
   ],
   "source": [
    "data = pd.read_csv('./input/retail_train.csv')\n",
    "\n",
    "data.columns = [col.lower() for col in data.columns]\n",
    "data.rename(columns={'household_key': 'user_id', 'product_id': 'item_id'}, inplace=True)\n",
    "\n",
    "test_size_weeks = 3\n",
    "\n",
    "data_train = data[data['week_no'] < data['week_no'].max() - test_size_weeks]\n",
    "data_test = data[data['week_no'] >= data['week_no'].max() - test_size_weeks]\n",
    "\n",
    "data_train.head(2)"
   ]
  },
  {
   "cell_type": "code",
   "execution_count": 7,
   "id": "9accf29b",
   "metadata": {},
   "outputs": [
    {
     "data": {
      "text/html": [
       "<div>\n",
       "<style scoped>\n",
       "    .dataframe tbody tr th:only-of-type {\n",
       "        vertical-align: middle;\n",
       "    }\n",
       "\n",
       "    .dataframe tbody tr th {\n",
       "        vertical-align: top;\n",
       "    }\n",
       "\n",
       "    .dataframe thead th {\n",
       "        text-align: right;\n",
       "    }\n",
       "</style>\n",
       "<table border=\"1\" class=\"dataframe\">\n",
       "  <thead>\n",
       "    <tr style=\"text-align: right;\">\n",
       "      <th></th>\n",
       "      <th>user_id</th>\n",
       "      <th>actual</th>\n",
       "    </tr>\n",
       "  </thead>\n",
       "  <tbody>\n",
       "    <tr>\n",
       "      <th>0</th>\n",
       "      <td>1</td>\n",
       "      <td>[821867, 834484, 856942, 865456, 889248, 90795...</td>\n",
       "    </tr>\n",
       "    <tr>\n",
       "      <th>1</th>\n",
       "      <td>3</td>\n",
       "      <td>[835476, 851057, 872021, 878302, 879948, 90963...</td>\n",
       "    </tr>\n",
       "  </tbody>\n",
       "</table>\n",
       "</div>"
      ],
      "text/plain": [
       "   user_id                                             actual\n",
       "0        1  [821867, 834484, 856942, 865456, 889248, 90795...\n",
       "1        3  [835476, 851057, 872021, 878302, 879948, 90963..."
      ]
     },
     "execution_count": 7,
     "metadata": {},
     "output_type": "execute_result"
    }
   ],
   "source": [
    "result = data_test.groupby('user_id')['item_id'].unique().reset_index()\n",
    "result.columns=['user_id', 'actual']\n",
    "result.head(2)"
   ]
  },
  {
   "cell_type": "code",
   "execution_count": 8,
   "id": "adef355b",
   "metadata": {},
   "outputs": [
    {
     "name": "stderr",
     "output_type": "stream",
     "text": [
      "e:\\progi\\python38\\lib\\site-packages\\pandas\\core\\indexing.py:1720: SettingWithCopyWarning: \n",
      "A value is trying to be set on a copy of a slice from a DataFrame.\n",
      "Try using .loc[row_indexer,col_indexer] = value instead\n",
      "\n",
      "See the caveats in the documentation: https://pandas.pydata.org/pandas-docs/stable/user_guide/indexing.html#returning-a-view-versus-a-copy\n",
      "  self._setitem_single_column(loc, value, pi)\n"
     ]
    }
   ],
   "source": [
    "popularity = data_train.groupby('item_id')['quantity'].sum().reset_index()\n",
    "popularity.rename(columns={'quantity': 'n_sold'}, inplace=True)\n",
    "\n",
    "top_5000 = popularity.sort_values('n_sold', ascending=False).head(5000).item_id.tolist()\n",
    "\n",
    "# Заведем фиктивный item_id (если юзер покупал товары из топ-5000, то он \"купил\" такой товар)\n",
    "filter_item = 999999\n",
    "data_train.loc[~data_train['item_id'].isin(top_5000), 'item_id'] = filter_item"
   ]
  },
  {
   "cell_type": "markdown",
   "id": "4d0bed80",
   "metadata": {},
   "source": [
    "### Подбор матрицы $c_{ui}$\n",
    "Попробуйте различные варианты матрицы весов (3+ вариантов). Обучите алгоритм для различных $C$. В качестве результата приведите таблицу: матрица весов - результат на train и validation.\n",
    "Сделате качественные выводы."
   ]
  },
  {
   "cell_type": "markdown",
   "id": "9fdb53a6",
   "metadata": {},
   "source": [
    "Оптимизация гипперпараметров\n",
    "Для лучшей матрицы весов из первого задания подберите оптимальные  λ  и n_factors. Подбор можно делать вручную (цикл в цикле, аналог sklearn.GridSearch, или случайно - sklearn.RandomSearch). Или Вы можете воспользоваться библиотеками для автоматического подбора гипперпараметров (любые на Ваш вкус). В качестве результата постройте графики:\n",
    "\n",
    "Значение параметра - время обучения  \n",
    "Значение параметра - качество train, качество validation  \n",
    "Сделайте качественные выводы  "
   ]
  },
  {
   "cell_type": "code",
   "execution_count": 9,
   "id": "5d850729",
   "metadata": {},
   "outputs": [],
   "source": [
    "model_params = {'factors': 100, 'regularization': 0.001, 'iterations': 15,  \n",
    "                'calculate_training_loss': True, 'num_threads': 4}"
   ]
  },
  {
   "cell_type": "code",
   "execution_count": 10,
   "id": "cc49b257",
   "metadata": {},
   "outputs": [
    {
     "name": "stderr",
     "output_type": "stream",
     "text": [
      "e:\\progi\\python38\\lib\\site-packages\\implicit\\utils.py:26: UserWarning: OpenBLAS detected. Its highly recommend to set the environment variable 'export OPENBLAS_NUM_THREADS=1' to disable its internal multithreading\n",
      "  warnings.warn(\n"
     ]
    },
    {
     "data": {
      "application/vnd.jupyter.widget-view+json": {
       "model_id": "9e7df783564b4313b34f274929f2c0fa",
       "version_major": 2,
       "version_minor": 0
      },
      "text/plain": [
       "  0%|          | 0/15 [00:00<?, ?it/s]"
      ]
     },
     "metadata": {},
     "output_type": "display_data"
    },
    {
     "data": {
      "application/vnd.jupyter.widget-view+json": {
       "model_id": "309a3347c1984e43a3f6953e6e661e99",
       "version_major": 2,
       "version_minor": 0
      },
      "text/plain": [
       "  0%|          | 0/15 [00:00<?, ?it/s]"
      ]
     },
     "metadata": {},
     "output_type": "display_data"
    },
    {
     "data": {
      "application/vnd.jupyter.widget-view+json": {
       "model_id": "3f125ac8e48940fc9817ee1bbd6ec1c9",
       "version_major": 2,
       "version_minor": 0
      },
      "text/plain": [
       "  0%|          | 0/15 [00:00<?, ?it/s]"
      ]
     },
     "metadata": {},
     "output_type": "display_data"
    }
   ],
   "source": [
    "result['q_sum_als'] = als(data_train, 'quantity', 'sum', result['user_id'], filter_item, model_params)\n",
    "result['q_count_als'] = als(data_train, 'quantity', 'count', result['user_id'], filter_item, model_params)\n",
    "result['q_mean_als'] = als(data_train, 'quantity', 'mean', result['user_id'], filter_item, model_params)\n",
    "\n",
    "s = result.apply(lambda row: precision_at_k(row['q_sum_als'], row['actual']), axis=1).mean()\n",
    "c = result.apply(lambda row: precision_at_k(row['q_count_als'], row['actual']), axis=1).mean()\n",
    "m = result.apply(lambda row: precision_at_k(row['q_mean_als'], row['actual']), axis=1).mean()"
   ]
  },
  {
   "cell_type": "code",
   "execution_count": 11,
   "id": "e1082565",
   "metadata": {},
   "outputs": [
    {
     "data": {
      "text/plain": [
       "(0.16395690499510285, 0.1803134182174339, 0.18903036238981394)"
      ]
     },
     "execution_count": 11,
     "metadata": {},
     "output_type": "execute_result"
    }
   ],
   "source": [
    "s, c, m"
   ]
  },
  {
   "cell_type": "code",
   "execution_count": 15,
   "id": "3319993f",
   "metadata": {},
   "outputs": [
    {
     "data": {
      "text/html": [
       "<div>\n",
       "<style scoped>\n",
       "    .dataframe tbody tr th:only-of-type {\n",
       "        vertical-align: middle;\n",
       "    }\n",
       "\n",
       "    .dataframe tbody tr th {\n",
       "        vertical-align: top;\n",
       "    }\n",
       "\n",
       "    .dataframe thead th {\n",
       "        text-align: right;\n",
       "    }\n",
       "</style>\n",
       "<table border=\"1\" class=\"dataframe\">\n",
       "  <thead>\n",
       "    <tr style=\"text-align: right;\">\n",
       "      <th></th>\n",
       "      <th>user_id</th>\n",
       "      <th>actual</th>\n",
       "      <th>q_sum_als</th>\n",
       "      <th>q_count_als</th>\n",
       "      <th>q_mean_als</th>\n",
       "      <th>best</th>\n",
       "    </tr>\n",
       "  </thead>\n",
       "  <tbody>\n",
       "    <tr>\n",
       "      <th>0</th>\n",
       "      <td>1</td>\n",
       "      <td>[821867, 834484, 856942, 865456, 889248, 90795...</td>\n",
       "      <td>[5569374, 1033142, 979707, 965766, 1095275]</td>\n",
       "      <td>[1033142, 5569374, 979707, 995242, 9527290]</td>\n",
       "      <td>[995242, 1082185, 986947, 820165, 907014]</td>\n",
       "      <td>[820165, 986947, 866227, 1082185, 1095275]</td>\n",
       "    </tr>\n",
       "    <tr>\n",
       "      <th>1</th>\n",
       "      <td>3</td>\n",
       "      <td>[835476, 851057, 872021, 878302, 879948, 90963...</td>\n",
       "      <td>[1106523, 914190, 1055863, 9337581, 910032]</td>\n",
       "      <td>[929668, 1106523, 822407, 5568378, 1133018]</td>\n",
       "      <td>[1106523, 1133018, 938700, 910032, 844179]</td>\n",
       "      <td>[1055863, 938700, 1022003, 1133018, 910032]</td>\n",
       "    </tr>\n",
       "    <tr>\n",
       "      <th>2</th>\n",
       "      <td>6</td>\n",
       "      <td>[920308, 926804, 946489, 1006718, 1017061, 107...</td>\n",
       "      <td>[923746, 1051516, 878996, 866211, 1024306]</td>\n",
       "      <td>[1007195, 866211, 1023720, 1051516, 878996]</td>\n",
       "      <td>[878996, 1082185, 1024306, 1127831, 866211]</td>\n",
       "      <td>[1082185, 878996, 1024306, 1127831, 1007195]</td>\n",
       "    </tr>\n",
       "    <tr>\n",
       "      <th>3</th>\n",
       "      <td>7</td>\n",
       "      <td>[840386, 889774, 898068, 909714, 929067, 95347...</td>\n",
       "      <td>[938700, 1082185, 1013321, 1133018, 1022003]</td>\n",
       "      <td>[1082185, 938700, 893018, 1013321, 1096036]</td>\n",
       "      <td>[1127831, 1013321, 1022003, 826249, 1030819]</td>\n",
       "      <td>[826249, 1082185, 1050229, 938700, 1030819]</td>\n",
       "    </tr>\n",
       "    <tr>\n",
       "      <th>4</th>\n",
       "      <td>8</td>\n",
       "      <td>[835098, 872137, 910439, 924610, 992977, 10412...</td>\n",
       "      <td>[1068719, 883404, 840361, 1053690, 965766]</td>\n",
       "      <td>[1065593, 6534178, 1004906, 1068719, 938700]</td>\n",
       "      <td>[1053690, 833715, 883404, 844165, 1004906]</td>\n",
       "      <td>[1068719, 938700, 1082185, 995242, 1053690]</td>\n",
       "    </tr>\n",
       "  </tbody>\n",
       "</table>\n",
       "</div>"
      ],
      "text/plain": [
       "   user_id                                             actual  \\\n",
       "0        1  [821867, 834484, 856942, 865456, 889248, 90795...   \n",
       "1        3  [835476, 851057, 872021, 878302, 879948, 90963...   \n",
       "2        6  [920308, 926804, 946489, 1006718, 1017061, 107...   \n",
       "3        7  [840386, 889774, 898068, 909714, 929067, 95347...   \n",
       "4        8  [835098, 872137, 910439, 924610, 992977, 10412...   \n",
       "\n",
       "                                      q_sum_als  \\\n",
       "0   [5569374, 1033142, 979707, 965766, 1095275]   \n",
       "1   [1106523, 914190, 1055863, 9337581, 910032]   \n",
       "2    [923746, 1051516, 878996, 866211, 1024306]   \n",
       "3  [938700, 1082185, 1013321, 1133018, 1022003]   \n",
       "4    [1068719, 883404, 840361, 1053690, 965766]   \n",
       "\n",
       "                                    q_count_als  \\\n",
       "0   [1033142, 5569374, 979707, 995242, 9527290]   \n",
       "1   [929668, 1106523, 822407, 5568378, 1133018]   \n",
       "2   [1007195, 866211, 1023720, 1051516, 878996]   \n",
       "3   [1082185, 938700, 893018, 1013321, 1096036]   \n",
       "4  [1065593, 6534178, 1004906, 1068719, 938700]   \n",
       "\n",
       "                                     q_mean_als  \\\n",
       "0     [995242, 1082185, 986947, 820165, 907014]   \n",
       "1    [1106523, 1133018, 938700, 910032, 844179]   \n",
       "2   [878996, 1082185, 1024306, 1127831, 866211]   \n",
       "3  [1127831, 1013321, 1022003, 826249, 1030819]   \n",
       "4    [1053690, 833715, 883404, 844165, 1004906]   \n",
       "\n",
       "                                           best  \n",
       "0    [820165, 986947, 866227, 1082185, 1095275]  \n",
       "1   [1055863, 938700, 1022003, 1133018, 910032]  \n",
       "2  [1082185, 878996, 1024306, 1127831, 1007195]  \n",
       "3   [826249, 1082185, 1050229, 938700, 1030819]  \n",
       "4   [1068719, 938700, 1082185, 995242, 1053690]  "
      ]
     },
     "execution_count": 15,
     "metadata": {},
     "output_type": "execute_result"
    }
   ],
   "source": [
    "result.head(5)"
   ]
  },
  {
   "cell_type": "code",
   "execution_count": 13,
   "id": "98bbf1fb",
   "metadata": {
    "scrolled": true
   },
   "outputs": [
    {
     "data": {
      "application/vnd.jupyter.widget-view+json": {
       "model_id": "89e4c4842e7748b7a3668b52893cfa4a",
       "version_major": 2,
       "version_minor": 0
      },
      "text/plain": [
       "  0%|          | 0/10 [00:00<?, ?it/s]"
      ]
     },
     "metadata": {},
     "output_type": "display_data"
    },
    {
     "name": "stdout",
     "output_type": "stream",
     "text": [
      "Wall time: 9.98 s\n"
     ]
    },
    {
     "data": {
      "text/plain": [
       "0.1952987267384917"
      ]
     },
     "execution_count": 13,
     "metadata": {},
     "output_type": "execute_result"
    }
   ],
   "source": [
    "%%time\n",
    "model_params = {'factors': 100, 'regularization': 0.07, 'iterations': 10,  \n",
    "                'calculate_training_loss': True, 'num_threads': 15}\n",
    "result['best'] = als(data_train, 'quantity', 'mean', result['user_id'], filter_item, model_params)\n",
    "result.apply(lambda row: precision_at_k(row['best'], row['actual']), axis=1).mean()"
   ]
  },
  {
   "cell_type": "markdown",
   "id": "775ba599",
   "metadata": {},
   "source": [
    "### Вывод\n",
    "Наилучший результат показала сводная по среднему количеству покупаемого пользователем товара.  \n",
    "Наилучшим параметром с точки зрения оптимизации получаемого значения оказался regularization, а наилучшим с точки зрения повышения производительности num_threads.\n"
   ]
  }
 ],
 "metadata": {
  "kernelspec": {
   "display_name": "Python 3",
   "language": "python",
   "name": "python3"
  },
  "language_info": {
   "codemirror_mode": {
    "name": "ipython",
    "version": 3
   },
   "file_extension": ".py",
   "mimetype": "text/x-python",
   "name": "python",
   "nbconvert_exporter": "python",
   "pygments_lexer": "ipython3",
   "version": "3.8.6"
  },
  "varInspector": {
   "cols": {
    "lenName": 16,
    "lenType": 16,
    "lenVar": 40
   },
   "kernels_config": {
    "python": {
     "delete_cmd_postfix": "",
     "delete_cmd_prefix": "del ",
     "library": "var_list.py",
     "varRefreshCmd": "print(var_dic_list())"
    },
    "r": {
     "delete_cmd_postfix": ") ",
     "delete_cmd_prefix": "rm(",
     "library": "var_list.r",
     "varRefreshCmd": "cat(var_dic_list()) "
    }
   },
   "types_to_exclude": [
    "module",
    "function",
    "builtin_function_or_method",
    "instance",
    "_Feature"
   ],
   "window_display": false
  }
 },
 "nbformat": 4,
 "nbformat_minor": 5
}
