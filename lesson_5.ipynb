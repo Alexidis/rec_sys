{
 "nbformat": 4,
 "nbformat_minor": 0,
 "metadata": {
  "kernelspec": {
   "display_name": "Python 3",
   "language": "python",
   "name": "python3"
  },
  "language_info": {
   "codemirror_mode": {
    "name": "ipython",
    "version": 3
   },
   "file_extension": ".py",
   "mimetype": "text/x-python",
   "name": "python",
   "nbconvert_exporter": "python",
   "pygments_lexer": "ipython3",
   "version": "3.6.13"
  },
  "colab": {
   "name": "hw_5.ipynb",
   "provenance": []
  }
 },
 "cells": [
  {
   "cell_type": "markdown",
   "metadata": {
    "id": "f1XjeTzsz7_x",
    "pycharm": {
     "name": "#%% md\n"
    }
   },
   "source": [
    "## Теоретическая часть"
   ]
  },
  {
   "cell_type": "markdown",
   "source": [
    "\n",
    "1. Ответьте на вопросы:  \n",
    "В чем принципиальное отличие гибридных рекомендательных систем от коллаборативной фильтрации?\n",
    "Приведите 2-3 примера задач, в которых необходимо использовать гибридные системы  \n",
    "\n",
    "\n"
   ],
   "metadata": {
    "collapsed": false,
    "pycharm": {
     "name": "#%% md\n"
    }
   }
  },
  {
   "cell_type": "markdown",
   "source": [
    "Колаборативная фильтрация основывается на оценках пользователя или на оценках других пользователей, а гибридная система включается в себя не только эти знания, но и например знания о пользователях или товарах.\n",
    "Гибридную систему можно применять там где есть достаточно данных и ресурсов для ее построения, а так же имеется в этом целесообразность.\n"
   ],
   "metadata": {
    "collapsed": false,
    "pycharm": {
     "name": "#%% md\n"
    }
   }
  },
  {
   "cell_type": "markdown",
   "source": [
    "2.  Прочитайте статью про поиск на hh.ru https://habr.com/ru/company/hh/blog/347276/\n",
    "Нам интересна именно рекомендательная система, раздел \"Производительность системы\" можно пропустить\n",
    "Какие основные отличия предложенной системы от тех подходов, которые мы разбирали на семинарах? Какие проблемы могут возникнуть при выводе такой модели в продакшен?"
   ],
   "metadata": {
    "collapsed": false,
    "pycharm": {
     "name": "#%% md\n"
    }
   }
  },
  {
   "cell_type": "markdown",
   "source": [
    "На мой взгляд на семинаре мы не разбирали как одновременно помещать в топ рекомендации из разных подгрупп («Премиумы», «Стандарт+» и «Стандарт», и бесплатные)."
   ],
   "metadata": {
    "collapsed": false,
    "pycharm": {
     "name": "#%% md\n"
    }
   }
  },
  {
   "cell_type": "markdown",
   "source": [
    "3. На вебинаре мы рассматривали модель LightFM (https://making.lyst.com/lightfm/docs/lightfm.html). В работе Data Scientist'а важную часть занимает research - исследование существующих архитектур и разбор научных статей, в которых они описываются. Вам предлагается изучить оригинальную статью про LightFM https://arxiv.org/pdf/1507.08439.pdf и ответить на следующие вопросы:\n",
    "1) Какой датасет используют авторы?\n",
    "    1. MovieLens - содержит 10 миллионов записей о рейтинге 10681 фильме составленные 71567 пользователями. Все фильмы имеют описание по жанру и списку тегов. Для пары фильм-тег есть оценка соответствия от 0 до 1. Ожидается что с данным набором будет хорошо справляться модель матричной факторизации.\n",
    "    2. CrossValidated - содержит информацию о 44200 вопросах и 188865 ответах полученных от 5953 пользователя. Каждому вопросу соответствует один или несколько из 1032 уникальных тегов. Так же набор содержит информацию о пользователях. Ожидается что с набором хорошо будет справляться Content-based модель.\n",
    "2) Что используют в качестве признаков?\n",
    "    1. В качестве признаков используют: теги, описательные признаки, признаки пользователей и признаки элементов.\n",
    "3) С какими моделями сравнивают LightFM? Опишите их основные идеи кратко\n",
    "    1. Матричная факторизация - традиционная модель матричной факторизации\n",
    "    2. LSI-LR - гибридная модель основанная на контенте. Использует модели Latent Semantic Indexing(LSI) и линейную регрессию. Сначала для каждого пользователя с помощью LSI строиться вектор рекомендаций, после чего для каждого пользователя обучается своя модель логистической регрессии.\n",
    "    3. LSI-UP - гибридная модель основанная на профилях пользователей, представленных в виде линейной комбинации векторов контента, к которым применяется LSI для получения итоговой неявных представлений пользователей и товаров. В начале строится матрица характеристик пользователей, где каждому пользователю соответствует вектор положительного взаимодействия с товаром. После чего к нормализованной матрице применяется усеченное сингулярное разложение, чтобы получить векторы неявных пользователей и неявных признаков."
   ],
   "metadata": {
    "collapsed": false,
    "pycharm": {
     "name": "#%% md\n"
    }
   }
  },
  {
   "cell_type": "markdown",
   "source": [
    "## Практическая часть\n"
   ],
   "metadata": {
    "collapsed": false,
    "pycharm": {
     "name": "#%% md\n"
    }
   }
  },
  {
   "cell_type": "markdown",
   "source": [
    "### 2. Работа с признаками\n",
    "У нас есть внешние данные. Что с ними не так? Чего не хватает?\n",
    "\n",
    "Проведите исследование внешних данных и составьте какие-нибудь содержательные выводы.\n",
    "Формально Вам нужно построить 3+ графиков (scatter plot, hist или что-то иное) и описать, что мы видим (например, товары такой-то категории более часто покупаются в следующие дни недели или пользователи с большим достатком предпочитают такие-то товары).\n",
    "Исследуйте те закономерности, которые Вам интересно, чем менее тривиальный вывод получается, тем лучше!"
   ],
   "metadata": {
    "collapsed": false,
    "pycharm": {
     "name": "#%% md\n"
    }
   }
  },
  {
   "cell_type": "markdown",
   "source": [
    "### 3.LightFM\n",
    "У этого алгоритма есть множество параметров (item/user_alpha, loss, no_components). Проведите эксперименты аналогично дз 3 (подберите гипперпараметры каким удобно способом и постройте графики) На выходе необходимо получить pr@5 на валидации (последние 3 недели) > 2%\n",
    "У Вас, скорее всего, возникнет проблема со временем обучения. Почему они возникают?\n",
    "Попробуйте запустить алгоритм вообще без фичей или используйте только признаки с небольшим числом уникальных категорий. (item_features[‘commodity_desc’].unique() - 300 уникальных категорий - это очень много)"
   ],
   "metadata": {
    "collapsed": false,
    "pycharm": {
     "name": "#%% md\n"
    }
   }
  },
  {
   "cell_type": "markdown",
   "source": [
    "### *Отбор признаков* *\n",
    "Все данные категориальные, при ohe кодировании для товаров признаков становится невероятно много.\n",
    "Какие стратегии отбора признаков в классическом ML Вы знаете? Применимы ли они тут?\n",
    "\n",
    "Попробуйте какие-нибудь стратегии. Удалось ли улучшить качество?\n",
    "\n",
    " \\* *задание необязательно*"
   ],
   "metadata": {
    "collapsed": false,
    "pycharm": {
     "name": "#%% md\n"
    }
   }
  },
  {
   "cell_type": "markdown",
   "source": [],
   "metadata": {
    "collapsed": false,
    "pycharm": {
     "name": "#%% md\n"
    }
   }
  },
  {
   "cell_type": "code",
   "execution_count": null,
   "outputs": [],
   "source": [
    "import pandas as pd\n",
    "import numpy as np\n",
    "import matplotlib.pyplot as plt\n",
    "import lightfm\n",
    "%matplotlib inline\n",
    "\n",
    "# Для работы с матрицами\n",
    "from scipy.sparse import csr_matrix, coo_matrix\n",
    "\n",
    "# Матричная факторизация\n",
    "#from implicit.als import AlternatingLeastSquares\n",
    "#from implicit.nearest_neighbours import bm25_weight, tfidf_weight\n",
    "\n",
    "from lightfm import LightFM\n",
    "from lightfm.evaluation import precision_at_k as pr, recall_at_k\n",
    "\n",
    "# Функции из 1-ого вебинара\n",
    "import os, sys\n",
    "\n",
    "module_path = os.path.abspath(os.path.join(os.pardir))\n",
    "if module_path not in sys.path:\n",
    "    sys.path.append(module_path)\n",
    "\n",
    "from src.utils import prefilter_items, id_converter\n",
    "from src.recommenders import get_similar_users_recommendation, get_similar_item"
   ],
   "metadata": {
    "collapsed": false,
    "pycharm": {
     "name": "#%%\n"
    }
   }
  },
  {
   "cell_type": "code",
   "execution_count": null,
   "outputs": [],
   "source": [
    "data = pd.read_csv('./input/retail_train.csv')\n",
    "item_features = pd.read_csv('./input/product.csv')\n",
    "user_features = pd.read_csv('./input/hh_demographic.csv')\n",
    "\n",
    "item_features.columns = [col.lower() for col in item_features.columns]\n",
    "user_features.columns = [col.lower() for col in user_features.columns]\n",
    "\n",
    "item_features.rename(columns={'product_id': 'item_id'}, inplace=True)\n",
    "user_features.rename(columns={'household_key': 'user_id'}, inplace=True)\n",
    "\n",
    "# train test split\n",
    "test_size_weeks = 3\n",
    "\n",
    "current_week = data['week_no'].max()\n",
    "test_week =  current_week - test_size_weeks\n",
    "\n",
    "data_train = data[data['week_no'] < current_week]\n",
    "data_test = data[data['week_no'] >= current_week]\n",
    "\n",
    "data_train.head(2)"
   ],
   "metadata": {
    "collapsed": false,
    "pycharm": {
     "name": "#%%\n"
    }
   }
  },
  {
   "cell_type": "code",
   "execution_count": null,
   "outputs": [],
   "source": [
    "item_features.head(2)"
   ],
   "metadata": {
    "collapsed": false,
    "pycharm": {
     "name": "#%%\n"
    }
   }
  },
  {
   "cell_type": "code",
   "execution_count": null,
   "outputs": [],
   "source": [
    "user_features.head(2)"
   ],
   "metadata": {
    "collapsed": false,
    "pycharm": {
     "name": "#%%\n"
    }
   }
  },
  {
   "cell_type": "code",
   "execution_count": null,
   "outputs": [],
   "source": [
    "data_train.head(2)"
   ],
   "metadata": {
    "collapsed": false,
    "pycharm": {
     "name": "#%%\n"
    }
   }
  },
  {
   "cell_type": "code",
   "execution_count": null,
   "outputs": [],
   "source": [
    "n_items_before = data_train['item_id'].nunique()\n",
    "\n",
    "data_train = prefilter_items(data_train, item_features, current_week, n_popular=5000)\n",
    "\n",
    "n_items_after = data_train['item_id'].nunique()\n",
    "print(f'Decreased # items from {n_items_before} to {n_items_after}')"
   ],
   "metadata": {
    "collapsed": false,
    "pycharm": {
     "name": "#%%\n"
    }
   }
  },
  {
   "cell_type": "code",
   "execution_count": null,
   "outputs": [],
   "source": [
    "data_test = prefilter_items(data_test, item_features, current_week, n_popular=5000)"
   ],
   "metadata": {
    "collapsed": false,
    "pycharm": {
     "name": "#%%\n"
    }
   }
  },
  {
   "cell_type": "code",
   "execution_count": null,
   "outputs": [],
   "source": [
    "# Заведем фиктивный item_id (если юзер покупал товары из топ-5000, то он \"купил\" такой товар)\n",
    "# filter non top-5000\n",
    "popularity = data_train.groupby('item_id')['quantity'].sum().reset_index()\n",
    "popularity.rename(columns={'quantity': 'n_sold'}, inplace=True)\n",
    "top_5000 = popularity.sort_values('n_sold', ascending=False).head(5000).item_id.tolist()\n",
    "data_train.loc[~data_train['item_id'].isin(top_5000), 'item_id'] = 999999\n",
    "\n",
    "user_item_matrix = pd.pivot_table(data_train,\n",
    "                                  index='user_id', columns='item_id',\n",
    "                                  values='quantity', # Можно пробоват ьдругие варианты\n",
    "                                  aggfunc='count',\n",
    "                                  fill_value=0\n",
    "                                 )\n",
    "\n",
    "user_item_matrix = user_item_matrix.astype(float) # необходимый тип матрицы для implicit\n",
    "\n",
    "# переведем в формат sparse matrix\n",
    "sparse_user_item = csr_matrix(user_item_matrix).tocsr()\n",
    "\n",
    "user_item_matrix.head(2)"
   ],
   "metadata": {
    "collapsed": false,
    "pycharm": {
     "name": "#%%\n"
    }
   }
  },
  {
   "cell_type": "code",
   "execution_count": null,
   "outputs": [],
   "source": [
    "data_test = data_test[data_test['item_id'].isin(data_train['item_id'].unique())]\n",
    "test_user_item_matrix = pd.pivot_table(data_test,\n",
    "                                  index='user_id', columns='item_id',\n",
    "                                  values='quantity', # Можно пробоват ьдругие варианты\n",
    "                                  aggfunc='count',\n",
    "                                  fill_value=0\n",
    "                                 )\n",
    "\n",
    "test_user_item_matrix = test_user_item_matrix.astype(float)\n",
    "sparse_user_item_test = csr_matrix(test_user_item_matrix).tocsr()"
   ],
   "metadata": {
    "collapsed": false,
    "pycharm": {
     "name": "#%%\n"
    }
   }
  },
  {
   "cell_type": "code",
   "execution_count": null,
   "outputs": [],
   "source": [
    "user_feat = pd.DataFrame(user_item_matrix.index)\n",
    "user_feat = user_feat.merge(user_features, on='user_id', how='left')\n",
    "user_feat.set_index('user_id', inplace=True)\n",
    "\n",
    "item_feat = pd.DataFrame(user_item_matrix.columns)\n",
    "item_feat = item_feat.merge(item_features, on='item_id', how='left')\n",
    "item_feat.set_index('item_id', inplace=True)\n",
    "\n",
    "user_feat.head(2)"
   ],
   "metadata": {
    "collapsed": false,
    "pycharm": {
     "name": "#%%\n"
    }
   }
  },
  {
   "cell_type": "code",
   "execution_count": null,
   "outputs": [],
   "source": [
    "user_feat_lightfm = pd.get_dummies(user_feat, columns=user_feat.columns.tolist())\n",
    "item_feat_lightfm = pd.get_dummies(item_feat, columns=item_feat.columns.tolist())"
   ],
   "metadata": {
    "collapsed": false,
    "pycharm": {
     "name": "#%%\n"
    }
   }
  },
  {
   "cell_type": "code",
   "execution_count": null,
   "outputs": [],
   "source": [
    "user_feat_lightfm.head(2)"
   ],
   "metadata": {
    "collapsed": false,
    "pycharm": {
     "name": "#%%\n"
    }
   }
  },
  {
   "cell_type": "code",
   "execution_count": null,
   "outputs": [],
   "source": [
    "item_feat_lightfm.head()"
   ],
   "metadata": {
    "collapsed": false,
    "pycharm": {
     "name": "#%%\n"
    }
   }
  },
  {
   "cell_type": "code",
   "execution_count": null,
   "outputs": [],
   "source": [
    "csr_user = csr_matrix(user_feat_lightfm.values).tocsr()\n",
    "csr_item = csr_matrix(item_feat_lightfm.values).tocsr()\n",
    "c_ui = coo_matrix(user_item_matrix)"
   ],
   "metadata": {
    "collapsed": false,
    "pycharm": {
     "name": "#%%\n"
    }
   }
  },
  {
   "cell_type": "code",
   "execution_count": null,
   "outputs": [],
   "source": [
    "# Params:\n",
    "# no_components – the dimensionality of the feature latent embeddings.\n",
    "# k – for k-OS training, the k-th positive example will be selected from the n positive examples sampled for every user.\n",
    "# n – for k-OS training, maximum number of positives sampled for each update.\n",
    "# learning_schedule – one of ('adagrad', 'adadelta').\n",
    "# loss – one of ('logistic', 'bpr', 'warp', 'warp-kos'): the loss function.\n",
    "# learning_rate – initial learning rate for the adagrad learning schedule.\n",
    "# rho – moving average coefficient for the adadelta learning schedule.\n",
    "# epsilon – conditioning parameter for the adadelta learning schedule.\n",
    "# item_alpha – L2 penalty on item features. Tip: setting this number too high can slow down training. One good way to check is if the final weights in the embeddings turned out to be mostly zero. The same idea applies to the user_alpha parameter.\n",
    "# user_alpha – L2 penalty on user features.\n",
    "# max_sampled – maximum number of negative samples used during WARP fitting. It requires a lot of sampling to find negative triplets for users that are already well represented by the model; this can lead to very long training times and overfitting. Setting this to a higher number will generally lead to longer training times, but may in some cases improve accuracy.\n",
    "# random_state – The seed of the pseudo random number generator to use when shuffling the data and initializing the parameters.\n",
    "\n",
    "# model = LightFM(no_components=10,\n",
    "#                 loss='warp', # 'bpr'\n",
    "#                 learning_rate=0.05,\n",
    "#                 item_alpha=0.1, # смещение по товару\n",
    "#                 user_alpha=0.1,\n",
    "#                 random_state=42)\n",
    "\n",
    "\n",
    "model = LightFM(no_components = 10,\n",
    "                k = 5,\n",
    "                n = 10,\n",
    "                # learning_schedule = \"adagrad\",\n",
    "                loss = \"bpr\",\n",
    "                learning_rate = 0.05,\n",
    "                # rho = 0.95,\n",
    "                # epsilon = 1e-6,\n",
    "                item_alpha = 0.5,\n",
    "                user_alpha = 0.4,\n",
    "                # max_sampled = 20,\n",
    "                random_state = 42)\n",
    "\n",
    "model.fit((sparse_user_item > 0) * 1,  # user-item matrix из 0 и 1\n",
    "           sample_weight=c_ui,\n",
    "           user_features=csr_user,\n",
    "           item_features=csr_item,\n",
    "           epochs=15)\n",
    "\n",
    "test_precision = pr(model, sparse_user_item_test,\n",
    "                    user_features=csr_user,\n",
    "                    item_features=csr_item,\n",
    "                    k=5).mean()\n",
    "test_precision"
   ],
   "metadata": {
    "collapsed": false,
    "pycharm": {
     "name": "#%%\n"
    }
   }
  },
  {
   "cell_type": "code",
   "execution_count": null,
   "outputs": [],
   "source": [
    "model = LightFM(no_components = 10,\n",
    "                k = 5,\n",
    "                n = 10,\n",
    "                # learning_schedule = \"adagrad\",\n",
    "                loss = \"bpr\",\n",
    "                learning_rate = 0.05,\n",
    "                # rho = 0.95,\n",
    "                # epsilon = 1e-6,\n",
    "                item_alpha = 0.5,\n",
    "                user_alpha = 0.4,\n",
    "                max_sampled = 12,\n",
    "                random_state = 42)\n",
    "\n",
    "0.011407543"
   ],
   "metadata": {
    "collapsed": false,
    "pycharm": {
     "name": "#%%\n"
    }
   }
  },
  {
   "cell_type": "code",
   "execution_count": null,
   "outputs": [],
   "source": [
    "user_biases_emb = model.get_user_representations(\n",
    "    features=csr_matrix(user_feat_lightfm.values).tocsr()\n",
    ")"
   ],
   "metadata": {
    "collapsed": false,
    "pycharm": {
     "name": "#%%\n"
    }
   }
  },
  {
   "cell_type": "code",
   "execution_count": null,
   "outputs": [],
   "source": [
    "item_biases_emb = model.get_item_representations(\n",
    "    features=csr_matrix(item_feat_lightfm.values).tocsr()\n",
    ")"
   ],
   "metadata": {
    "collapsed": false,
    "pycharm": {
     "name": "#%%\n"
    }
   }
  },
  {
   "cell_type": "code",
   "execution_count": null,
   "outputs": [],
   "source": [
    "train_precision = pr(model, sparse_user_item,\n",
    "                                 user_features=csr_matrix(user_feat_lightfm.values).tocsr(),\n",
    "                                 item_features=csr_matrix(item_feat_lightfm.values).tocsr(),\n",
    "                                 k=5).mean()"
   ],
   "metadata": {
    "collapsed": false,
    "pycharm": {
     "name": "#%%\n"
    }
   }
  },
  {
   "cell_type": "code",
   "execution_count": null,
   "outputs": [],
   "source": [
    "train_precision"
   ],
   "metadata": {
    "collapsed": false,
    "pycharm": {
     "name": "#%%\n"
    }
   }
  },
  {
   "cell_type": "code",
   "execution_count": null,
   "outputs": [],
   "source": [
    "test_precision = pr(model, sparse_user_item_test,\n",
    "                    user_features=csr_matrix(user_feat_lightfm.values).tocsr(),\n",
    "                    item_features=csr_matrix(item_feat_lightfm.values).tocsr(),\n",
    "                    k=5).mean()\n",
    "test_precision"
   ],
   "metadata": {
    "collapsed": false,
    "pycharm": {
     "name": "#%%\n"
    }
   }
  },
  {
   "cell_type": "code",
   "execution_count": null,
   "outputs": [],
   "source": [
    "test_item_ids = np.arange(len(itemids))\n",
    "\n",
    "predictions = model.predict(user_ids=6, item_ids=test_item_ids,\n",
    "                            user_features=csr_matrix(user_feat_lightfm.values).tocsr(),\n",
    "                            item_features=csr_matrix(item_feat_lightfm.values).tocsr(),\n",
    "                            num_threads=4)"
   ],
   "metadata": {
    "collapsed": false,
    "pycharm": {
     "name": "#%%\n"
    }
   }
  },
  {
   "cell_type": "code",
   "execution_count": null,
   "outputs": [],
   "source": [],
   "metadata": {
    "collapsed": false,
    "pycharm": {
     "name": "#%%\n"
    }
   }
  },
  {
   "cell_type": "code",
   "execution_count": null,
   "outputs": [],
   "source": [],
   "metadata": {
    "collapsed": false,
    "pycharm": {
     "name": "#%%\n"
    }
   }
  },
  {
   "cell_type": "code",
   "execution_count": null,
   "outputs": [],
   "source": [],
   "metadata": {
    "collapsed": false,
    "pycharm": {
     "name": "#%%\n"
    }
   }
  },
  {
   "cell_type": "code",
   "execution_count": null,
   "outputs": [],
   "source": [],
   "metadata": {
    "collapsed": false,
    "pycharm": {
     "name": "#%%\n"
    }
   }
  },
  {
   "cell_type": "code",
   "execution_count": null,
   "outputs": [],
   "source": [],
   "metadata": {
    "collapsed": false,
    "pycharm": {
     "name": "#%%\n"
    }
   }
  },
  {
   "cell_type": "code",
   "execution_count": null,
   "outputs": [],
   "source": [],
   "metadata": {
    "collapsed": false,
    "pycharm": {
     "name": "#%%\n"
    }
   }
  },
  {
   "cell_type": "markdown",
   "source": [],
   "metadata": {
    "collapsed": false,
    "pycharm": {
     "name": "#%% md\n"
    }
   }
  },
  {
   "cell_type": "markdown",
   "source": [
    "\n"
   ],
   "metadata": {
    "collapsed": false,
    "pycharm": {
     "name": "#%% md\n"
    }
   }
  },
  {
   "cell_type": "code",
   "execution_count": 5,
   "outputs": [
    {
     "data": {
      "text/plain": "   user_id    basket_id  day  item_id  quantity  sales_value  store_id  \\\n0     2375  26984851472    1  1004906         1         1.39       364   \n1     2375  26984851472    1  1033142         1         0.82       364   \n\n   retail_disc  trans_time  week_no  coupon_disc  coupon_match_disc  \n0         -0.6        1631        1          0.0                0.0  \n1          0.0        1631        1          0.0                0.0  ",
      "text/html": "<div>\n<style scoped>\n    .dataframe tbody tr th:only-of-type {\n        vertical-align: middle;\n    }\n\n    .dataframe tbody tr th {\n        vertical-align: top;\n    }\n\n    .dataframe thead th {\n        text-align: right;\n    }\n</style>\n<table border=\"1\" class=\"dataframe\">\n  <thead>\n    <tr style=\"text-align: right;\">\n      <th></th>\n      <th>user_id</th>\n      <th>basket_id</th>\n      <th>day</th>\n      <th>item_id</th>\n      <th>quantity</th>\n      <th>sales_value</th>\n      <th>store_id</th>\n      <th>retail_disc</th>\n      <th>trans_time</th>\n      <th>week_no</th>\n      <th>coupon_disc</th>\n      <th>coupon_match_disc</th>\n    </tr>\n  </thead>\n  <tbody>\n    <tr>\n      <th>0</th>\n      <td>2375</td>\n      <td>26984851472</td>\n      <td>1</td>\n      <td>1004906</td>\n      <td>1</td>\n      <td>1.39</td>\n      <td>364</td>\n      <td>-0.6</td>\n      <td>1631</td>\n      <td>1</td>\n      <td>0.0</td>\n      <td>0.0</td>\n    </tr>\n    <tr>\n      <th>1</th>\n      <td>2375</td>\n      <td>26984851472</td>\n      <td>1</td>\n      <td>1033142</td>\n      <td>1</td>\n      <td>0.82</td>\n      <td>364</td>\n      <td>0.0</td>\n      <td>1631</td>\n      <td>1</td>\n      <td>0.0</td>\n      <td>0.0</td>\n    </tr>\n  </tbody>\n</table>\n</div>"
     },
     "execution_count": 5,
     "metadata": {},
     "output_type": "execute_result"
    }
   ],
   "source": [
    "data_train.head(2)"
   ],
   "metadata": {
    "collapsed": false,
    "pycharm": {
     "name": "#%%\n"
    }
   }
  },
  {
   "cell_type": "code",
   "execution_count": 6,
   "outputs": [
    {
     "name": "stdout",
     "output_type": "stream",
     "text": [
      "Decreased # items from 88546 to 4937\n"
     ]
    }
   ],
   "source": [
    "n_items_before = data_train['item_id'].nunique()\n",
    "\n",
    "data_train = prefilter_items(data_train, item_features, current_week, n_popular=5000)\n",
    "\n",
    "n_items_after = data_train['item_id'].nunique()\n",
    "print(f'Decreased # items from {n_items_before} to {n_items_after}')"
   ],
   "metadata": {
    "collapsed": false,
    "pycharm": {
     "name": "#%%\n"
    }
   }
  },
  {
   "cell_type": "code",
   "execution_count": 7,
   "outputs": [],
   "source": [
    "data_test = prefilter_items(data_test, item_features, current_week, n_popular=5000)"
   ],
   "metadata": {
    "collapsed": false,
    "pycharm": {
     "name": "#%%\n"
    }
   }
  },
  {
   "cell_type": "code",
   "execution_count": 8,
   "outputs": [
    {
     "data": {
      "text/plain": "item_id  -1          818981     819255     819308     819400     819487    \\\nuser_id                                                                     \n1            142.0        0.0        0.0        0.0        0.0        0.0   \n2             72.0        0.0        0.0        0.0        0.0        0.0   \n\nitem_id   819590     819594     819840     819845    ...   15972298  \\\nuser_id                                              ...              \n1              0.0        0.0        0.0        0.0  ...        0.0   \n2              0.0        0.0        0.0        0.0  ...        0.0   \n\nitem_id   15972565   15972790   16100266   16729299   16729415   16770156  \\\nuser_id                                                                     \n1              0.0        0.0        0.0        0.0        0.0        0.0   \n2              0.0        0.0        0.0        0.0        0.0        0.0   \n\nitem_id   16809649   17104444   17105058  \nuser_id                                   \n1              0.0        0.0        0.0  \n2              0.0        0.0        0.0  \n\n[2 rows x 4937 columns]",
      "text/html": "<div>\n<style scoped>\n    .dataframe tbody tr th:only-of-type {\n        vertical-align: middle;\n    }\n\n    .dataframe tbody tr th {\n        vertical-align: top;\n    }\n\n    .dataframe thead th {\n        text-align: right;\n    }\n</style>\n<table border=\"1\" class=\"dataframe\">\n  <thead>\n    <tr style=\"text-align: right;\">\n      <th>item_id</th>\n      <th>-1</th>\n      <th>818981</th>\n      <th>819255</th>\n      <th>819308</th>\n      <th>819400</th>\n      <th>819487</th>\n      <th>819590</th>\n      <th>819594</th>\n      <th>819840</th>\n      <th>819845</th>\n      <th>...</th>\n      <th>15972298</th>\n      <th>15972565</th>\n      <th>15972790</th>\n      <th>16100266</th>\n      <th>16729299</th>\n      <th>16729415</th>\n      <th>16770156</th>\n      <th>16809649</th>\n      <th>17104444</th>\n      <th>17105058</th>\n    </tr>\n    <tr>\n      <th>user_id</th>\n      <th></th>\n      <th></th>\n      <th></th>\n      <th></th>\n      <th></th>\n      <th></th>\n      <th></th>\n      <th></th>\n      <th></th>\n      <th></th>\n      <th></th>\n      <th></th>\n      <th></th>\n      <th></th>\n      <th></th>\n      <th></th>\n      <th></th>\n      <th></th>\n      <th></th>\n      <th></th>\n      <th></th>\n    </tr>\n  </thead>\n  <tbody>\n    <tr>\n      <th>1</th>\n      <td>142.0</td>\n      <td>0.0</td>\n      <td>0.0</td>\n      <td>0.0</td>\n      <td>0.0</td>\n      <td>0.0</td>\n      <td>0.0</td>\n      <td>0.0</td>\n      <td>0.0</td>\n      <td>0.0</td>\n      <td>...</td>\n      <td>0.0</td>\n      <td>0.0</td>\n      <td>0.0</td>\n      <td>0.0</td>\n      <td>0.0</td>\n      <td>0.0</td>\n      <td>0.0</td>\n      <td>0.0</td>\n      <td>0.0</td>\n      <td>0.0</td>\n    </tr>\n    <tr>\n      <th>2</th>\n      <td>72.0</td>\n      <td>0.0</td>\n      <td>0.0</td>\n      <td>0.0</td>\n      <td>0.0</td>\n      <td>0.0</td>\n      <td>0.0</td>\n      <td>0.0</td>\n      <td>0.0</td>\n      <td>0.0</td>\n      <td>...</td>\n      <td>0.0</td>\n      <td>0.0</td>\n      <td>0.0</td>\n      <td>0.0</td>\n      <td>0.0</td>\n      <td>0.0</td>\n      <td>0.0</td>\n      <td>0.0</td>\n      <td>0.0</td>\n      <td>0.0</td>\n    </tr>\n  </tbody>\n</table>\n<p>2 rows × 4937 columns</p>\n</div>"
     },
     "execution_count": 8,
     "metadata": {},
     "output_type": "execute_result"
    }
   ],
   "source": [
    "# Заведем фиктивный item_id (если юзер покупал товары из топ-5000, то он \"купил\" такой товар)\n",
    "# filter non top-5000\n",
    "popularity = data_train.groupby('item_id')['quantity'].sum().reset_index()\n",
    "popularity.rename(columns={'quantity': 'n_sold'}, inplace=True)\n",
    "top_5000 = popularity.sort_values('n_sold', ascending=False).head(5000).item_id.tolist()\n",
    "data_train.loc[~data_train['item_id'].isin(top_5000), 'item_id'] = 999999\n",
    "\n",
    "user_item_matrix = pd.pivot_table(data_train,\n",
    "                                  index='user_id', columns='item_id',\n",
    "                                  values='quantity', # Можно пробоват ьдругие варианты\n",
    "                                  aggfunc='count',\n",
    "                                  fill_value=0\n",
    "                                 )\n",
    "\n",
    "user_item_matrix = user_item_matrix.astype(float) # необходимый тип матрицы для implicit\n",
    "\n",
    "# переведем в формат sparse matrix\n",
    "sparse_user_item = csr_matrix(user_item_matrix).tocsr()\n",
    "\n",
    "user_item_matrix.head(2)"
   ],
   "metadata": {
    "collapsed": false,
    "pycharm": {
     "name": "#%%\n"
    }
   }
  },
  {
   "cell_type": "code",
   "execution_count": 9,
   "outputs": [],
   "source": [
    "data_test = data_test[data_test['item_id'].isin(data_train['item_id'].unique())]\n",
    "test_user_item_matrix = pd.pivot_table(data_test,\n",
    "                                  index='user_id', columns='item_id',\n",
    "                                  values='quantity', # Можно пробоват ьдругие варианты\n",
    "                                  aggfunc='count',\n",
    "                                  fill_value=0\n",
    "                                 )\n",
    "\n",
    "test_user_item_matrix = test_user_item_matrix.astype(float)\n",
    "sparse_user_item_test = csr_matrix(test_user_item_matrix).tocsr()"
   ],
   "metadata": {
    "collapsed": false,
    "pycharm": {
     "name": "#%%\n"
    }
   }
  },
  {
   "cell_type": "code",
   "execution_count": 11,
   "outputs": [
    {
     "data": {
      "text/plain": "        age_desc marital_status_code income_desc homeowner_desc  \\\nuser_id                                                           \n1            65+                   A      35-49K      Homeowner   \n2            NaN                 NaN         NaN            NaN   \n\n             hh_comp_desc household_size_desc kid_category_desc  \nuser_id                                                          \n1        2 Adults No Kids                   2      None/Unknown  \n2                     NaN                 NaN               NaN  ",
      "text/html": "<div>\n<style scoped>\n    .dataframe tbody tr th:only-of-type {\n        vertical-align: middle;\n    }\n\n    .dataframe tbody tr th {\n        vertical-align: top;\n    }\n\n    .dataframe thead th {\n        text-align: right;\n    }\n</style>\n<table border=\"1\" class=\"dataframe\">\n  <thead>\n    <tr style=\"text-align: right;\">\n      <th></th>\n      <th>age_desc</th>\n      <th>marital_status_code</th>\n      <th>income_desc</th>\n      <th>homeowner_desc</th>\n      <th>hh_comp_desc</th>\n      <th>household_size_desc</th>\n      <th>kid_category_desc</th>\n    </tr>\n    <tr>\n      <th>user_id</th>\n      <th></th>\n      <th></th>\n      <th></th>\n      <th></th>\n      <th></th>\n      <th></th>\n      <th></th>\n    </tr>\n  </thead>\n  <tbody>\n    <tr>\n      <th>1</th>\n      <td>65+</td>\n      <td>A</td>\n      <td>35-49K</td>\n      <td>Homeowner</td>\n      <td>2 Adults No Kids</td>\n      <td>2</td>\n      <td>None/Unknown</td>\n    </tr>\n    <tr>\n      <th>2</th>\n      <td>NaN</td>\n      <td>NaN</td>\n      <td>NaN</td>\n      <td>NaN</td>\n      <td>NaN</td>\n      <td>NaN</td>\n      <td>NaN</td>\n    </tr>\n  </tbody>\n</table>\n</div>"
     },
     "execution_count": 11,
     "metadata": {},
     "output_type": "execute_result"
    }
   ],
   "source": [
    "user_feat = pd.DataFrame(user_item_matrix.index)\n",
    "user_feat = user_feat.merge(user_features, on='user_id', how='left')\n",
    "user_feat.set_index('user_id', inplace=True)\n",
    "\n",
    "item_feat = pd.DataFrame(user_item_matrix.columns)\n",
    "item_feat = item_feat.merge(item_features, on='item_id', how='left')\n",
    "item_feat.set_index('item_id', inplace=True)\n",
    "\n",
    "user_feat.head(2)"
   ],
   "metadata": {
    "collapsed": false,
    "pycharm": {
     "name": "#%%\n"
    }
   }
  },
  {
   "cell_type": "code",
   "execution_count": 12,
   "outputs": [],
   "source": [
    "user_feat_lightfm = pd.get_dummies(user_feat, columns=user_feat.columns.tolist())\n",
    "item_feat_lightfm = pd.get_dummies(item_feat, columns=item_feat.columns.tolist())"
   ],
   "metadata": {
    "collapsed": false,
    "pycharm": {
     "name": "#%%\n"
    }
   }
  },
  {
   "cell_type": "code",
   "execution_count": 13,
   "outputs": [
    {
     "data": {
      "text/plain": "         age_desc_19-24  age_desc_25-34  age_desc_35-44  age_desc_45-54  \\\nuser_id                                                                   \n1                     0               0               0               0   \n2                     0               0               0               0   \n\n         age_desc_55-64  age_desc_65+  marital_status_code_A  \\\nuser_id                                                        \n1                     0             1                      1   \n2                     0             0                      0   \n\n         marital_status_code_B  marital_status_code_U  income_desc_100-124K  \\\nuser_id                                                                       \n1                            0                      0                     0   \n2                            0                      0                     0   \n\n         ...  hh_comp_desc_Unknown  household_size_desc_1  \\\nuser_id  ...                                                \n1        ...                     0                      0   \n2        ...                     0                      0   \n\n         household_size_desc_2  household_size_desc_3  household_size_desc_4  \\\nuser_id                                                                        \n1                            1                      0                      0   \n2                            0                      0                      0   \n\n         household_size_desc_5+  kid_category_desc_1  kid_category_desc_2  \\\nuser_id                                                                     \n1                             0                    0                    0   \n2                             0                    0                    0   \n\n         kid_category_desc_3+  kid_category_desc_None/Unknown  \nuser_id                                                        \n1                           0                               1  \n2                           0                               0  \n\n[2 rows x 41 columns]",
      "text/html": "<div>\n<style scoped>\n    .dataframe tbody tr th:only-of-type {\n        vertical-align: middle;\n    }\n\n    .dataframe tbody tr th {\n        vertical-align: top;\n    }\n\n    .dataframe thead th {\n        text-align: right;\n    }\n</style>\n<table border=\"1\" class=\"dataframe\">\n  <thead>\n    <tr style=\"text-align: right;\">\n      <th></th>\n      <th>age_desc_19-24</th>\n      <th>age_desc_25-34</th>\n      <th>age_desc_35-44</th>\n      <th>age_desc_45-54</th>\n      <th>age_desc_55-64</th>\n      <th>age_desc_65+</th>\n      <th>marital_status_code_A</th>\n      <th>marital_status_code_B</th>\n      <th>marital_status_code_U</th>\n      <th>income_desc_100-124K</th>\n      <th>...</th>\n      <th>hh_comp_desc_Unknown</th>\n      <th>household_size_desc_1</th>\n      <th>household_size_desc_2</th>\n      <th>household_size_desc_3</th>\n      <th>household_size_desc_4</th>\n      <th>household_size_desc_5+</th>\n      <th>kid_category_desc_1</th>\n      <th>kid_category_desc_2</th>\n      <th>kid_category_desc_3+</th>\n      <th>kid_category_desc_None/Unknown</th>\n    </tr>\n    <tr>\n      <th>user_id</th>\n      <th></th>\n      <th></th>\n      <th></th>\n      <th></th>\n      <th></th>\n      <th></th>\n      <th></th>\n      <th></th>\n      <th></th>\n      <th></th>\n      <th></th>\n      <th></th>\n      <th></th>\n      <th></th>\n      <th></th>\n      <th></th>\n      <th></th>\n      <th></th>\n      <th></th>\n      <th></th>\n      <th></th>\n    </tr>\n  </thead>\n  <tbody>\n    <tr>\n      <th>1</th>\n      <td>0</td>\n      <td>0</td>\n      <td>0</td>\n      <td>0</td>\n      <td>0</td>\n      <td>1</td>\n      <td>1</td>\n      <td>0</td>\n      <td>0</td>\n      <td>0</td>\n      <td>...</td>\n      <td>0</td>\n      <td>0</td>\n      <td>1</td>\n      <td>0</td>\n      <td>0</td>\n      <td>0</td>\n      <td>0</td>\n      <td>0</td>\n      <td>0</td>\n      <td>1</td>\n    </tr>\n    <tr>\n      <th>2</th>\n      <td>0</td>\n      <td>0</td>\n      <td>0</td>\n      <td>0</td>\n      <td>0</td>\n      <td>0</td>\n      <td>0</td>\n      <td>0</td>\n      <td>0</td>\n      <td>0</td>\n      <td>...</td>\n      <td>0</td>\n      <td>0</td>\n      <td>0</td>\n      <td>0</td>\n      <td>0</td>\n      <td>0</td>\n      <td>0</td>\n      <td>0</td>\n      <td>0</td>\n      <td>0</td>\n    </tr>\n  </tbody>\n</table>\n<p>2 rows × 41 columns</p>\n</div>"
     },
     "execution_count": 13,
     "metadata": {},
     "output_type": "execute_result"
    }
   ],
   "source": [
    "user_feat_lightfm.head(2)"
   ],
   "metadata": {
    "collapsed": false,
    "pycharm": {
     "name": "#%%\n"
    }
   }
  },
  {
   "cell_type": "code",
   "execution_count": 14,
   "outputs": [
    {
     "data": {
      "text/plain": "         manufacturer_2.0  manufacturer_5.0  manufacturer_16.0  \\\nitem_id                                                          \n-1                      0                 0                  0   \n 818981                 0                 0                  0   \n 819255                 0                 0                  0   \n 819308                 0                 0                  0   \n 819400                 0                 0                  0   \n\n         manufacturer_20.0  manufacturer_26.0  manufacturer_33.0  \\\nitem_id                                                            \n-1                       0                  0                  0   \n 818981                  0                  0                  0   \n 819255                  0                  0                  0   \n 819308                  0                  0                  0   \n 819400                  0                  0                  0   \n\n         manufacturer_35.0  manufacturer_36.0  manufacturer_42.0  \\\nitem_id                                                            \n-1                       0                  0                  0   \n 818981                  0                  0                  0   \n 819255                  0                  0                  0   \n 819308                  0                  0                  0   \n 819400                  0                  0                  0   \n\n         manufacturer_43.0  ...  curr_size_of_product_L    16 OZ  \\\nitem_id                     ...                                    \n-1                       0  ...                                0   \n 818981                  0  ...                                0   \n 819255                  0  ...                                0   \n 819308                  0  ...                                0   \n 819400                  0  ...                                0   \n\n         curr_size_of_product_L  7.75 OZ  curr_size_of_product_L 13.25 OZ  \\\nitem_id                                                                     \n-1                                     0                                0   \n 818981                                0                                0   \n 819255                                0                                0   \n 819308                                0                                0   \n 819400                                0                                0   \n\n         curr_size_of_product_LB  curr_size_of_product_N   12 OZ  \\\nitem_id                                                            \n-1                             0                               0   \n 818981                        0                               0   \n 819255                        0                               0   \n 819308                        0                               0   \n 819400                        0                               0   \n\n         curr_size_of_product_N   40 OZ  curr_size_of_product_PINT  \\\nitem_id                                                              \n-1                                    0                          0   \n 818981                               0                          0   \n 819255                               0                          0   \n 819308                               0                          0   \n 819400                               0                          0   \n\n         curr_size_of_product_PK  curr_size_of_product_PT  \\\nitem_id                                                     \n-1                             0                        0   \n 818981                        0                        0   \n 819255                        0                        0   \n 819308                        0                        0   \n 819400                        0                        0   \n\n         curr_size_of_product_QT  \nitem_id                           \n-1                             0  \n 818981                        0  \n 819255                        0  \n 819308                        0  \n 819400                        0  \n\n[5 rows x 2662 columns]",
      "text/html": "<div>\n<style scoped>\n    .dataframe tbody tr th:only-of-type {\n        vertical-align: middle;\n    }\n\n    .dataframe tbody tr th {\n        vertical-align: top;\n    }\n\n    .dataframe thead th {\n        text-align: right;\n    }\n</style>\n<table border=\"1\" class=\"dataframe\">\n  <thead>\n    <tr style=\"text-align: right;\">\n      <th></th>\n      <th>manufacturer_2.0</th>\n      <th>manufacturer_5.0</th>\n      <th>manufacturer_16.0</th>\n      <th>manufacturer_20.0</th>\n      <th>manufacturer_26.0</th>\n      <th>manufacturer_33.0</th>\n      <th>manufacturer_35.0</th>\n      <th>manufacturer_36.0</th>\n      <th>manufacturer_42.0</th>\n      <th>manufacturer_43.0</th>\n      <th>...</th>\n      <th>curr_size_of_product_L    16 OZ</th>\n      <th>curr_size_of_product_L  7.75 OZ</th>\n      <th>curr_size_of_product_L 13.25 OZ</th>\n      <th>curr_size_of_product_LB</th>\n      <th>curr_size_of_product_N   12 OZ</th>\n      <th>curr_size_of_product_N   40 OZ</th>\n      <th>curr_size_of_product_PINT</th>\n      <th>curr_size_of_product_PK</th>\n      <th>curr_size_of_product_PT</th>\n      <th>curr_size_of_product_QT</th>\n    </tr>\n    <tr>\n      <th>item_id</th>\n      <th></th>\n      <th></th>\n      <th></th>\n      <th></th>\n      <th></th>\n      <th></th>\n      <th></th>\n      <th></th>\n      <th></th>\n      <th></th>\n      <th></th>\n      <th></th>\n      <th></th>\n      <th></th>\n      <th></th>\n      <th></th>\n      <th></th>\n      <th></th>\n      <th></th>\n      <th></th>\n      <th></th>\n    </tr>\n  </thead>\n  <tbody>\n    <tr>\n      <th>-1</th>\n      <td>0</td>\n      <td>0</td>\n      <td>0</td>\n      <td>0</td>\n      <td>0</td>\n      <td>0</td>\n      <td>0</td>\n      <td>0</td>\n      <td>0</td>\n      <td>0</td>\n      <td>...</td>\n      <td>0</td>\n      <td>0</td>\n      <td>0</td>\n      <td>0</td>\n      <td>0</td>\n      <td>0</td>\n      <td>0</td>\n      <td>0</td>\n      <td>0</td>\n      <td>0</td>\n    </tr>\n    <tr>\n      <th>818981</th>\n      <td>0</td>\n      <td>0</td>\n      <td>0</td>\n      <td>0</td>\n      <td>0</td>\n      <td>0</td>\n      <td>0</td>\n      <td>0</td>\n      <td>0</td>\n      <td>0</td>\n      <td>...</td>\n      <td>0</td>\n      <td>0</td>\n      <td>0</td>\n      <td>0</td>\n      <td>0</td>\n      <td>0</td>\n      <td>0</td>\n      <td>0</td>\n      <td>0</td>\n      <td>0</td>\n    </tr>\n    <tr>\n      <th>819255</th>\n      <td>0</td>\n      <td>0</td>\n      <td>0</td>\n      <td>0</td>\n      <td>0</td>\n      <td>0</td>\n      <td>0</td>\n      <td>0</td>\n      <td>0</td>\n      <td>0</td>\n      <td>...</td>\n      <td>0</td>\n      <td>0</td>\n      <td>0</td>\n      <td>0</td>\n      <td>0</td>\n      <td>0</td>\n      <td>0</td>\n      <td>0</td>\n      <td>0</td>\n      <td>0</td>\n    </tr>\n    <tr>\n      <th>819308</th>\n      <td>0</td>\n      <td>0</td>\n      <td>0</td>\n      <td>0</td>\n      <td>0</td>\n      <td>0</td>\n      <td>0</td>\n      <td>0</td>\n      <td>0</td>\n      <td>0</td>\n      <td>...</td>\n      <td>0</td>\n      <td>0</td>\n      <td>0</td>\n      <td>0</td>\n      <td>0</td>\n      <td>0</td>\n      <td>0</td>\n      <td>0</td>\n      <td>0</td>\n      <td>0</td>\n    </tr>\n    <tr>\n      <th>819400</th>\n      <td>0</td>\n      <td>0</td>\n      <td>0</td>\n      <td>0</td>\n      <td>0</td>\n      <td>0</td>\n      <td>0</td>\n      <td>0</td>\n      <td>0</td>\n      <td>0</td>\n      <td>...</td>\n      <td>0</td>\n      <td>0</td>\n      <td>0</td>\n      <td>0</td>\n      <td>0</td>\n      <td>0</td>\n      <td>0</td>\n      <td>0</td>\n      <td>0</td>\n      <td>0</td>\n    </tr>\n  </tbody>\n</table>\n<p>5 rows × 2662 columns</p>\n</div>"
     },
     "execution_count": 14,
     "metadata": {},
     "output_type": "execute_result"
    }
   ],
   "source": [
    "item_feat_lightfm.head()"
   ],
   "metadata": {
    "collapsed": false,
    "pycharm": {
     "name": "#%%\n"
    }
   }
  },
  {
   "cell_type": "code",
   "execution_count": 15,
   "outputs": [],
   "source": [
    "csr_user = csr_matrix(user_feat_lightfm.values).tocsr()\n",
    "csr_item = csr_matrix(item_feat_lightfm.values).tocsr()\n",
    "c_ui = coo_matrix(user_item_matrix)"
   ],
   "metadata": {
    "collapsed": false,
    "pycharm": {
     "name": "#%%\n"
    }
   }
  },
  {
   "cell_type": "code",
   "execution_count": 16,
   "outputs": [
    {
     "data": {
      "text/plain": "0.011407543"
     },
     "execution_count": 16,
     "metadata": {},
     "output_type": "execute_result"
    }
   ],
   "source": [
    "# Params:\n",
    "# no_components – the dimensionality of the feature latent embeddings.\n",
    "# k – for k-OS training, the k-th positive example will be selected from the n positive examples sampled for every user.\n",
    "# n – for k-OS training, maximum number of positives sampled for each update.\n",
    "# learning_schedule – one of ('adagrad', 'adadelta').\n",
    "# loss – one of ('logistic', 'bpr', 'warp', 'warp-kos'): the loss function.\n",
    "# learning_rate – initial learning rate for the adagrad learning schedule.\n",
    "# rho – moving average coefficient for the adadelta learning schedule.\n",
    "# epsilon – conditioning parameter for the adadelta learning schedule.\n",
    "# item_alpha – L2 penalty on item features. Tip: setting this number too high can slow down training. One good way to check is if the final weights in the embeddings turned out to be mostly zero. The same idea applies to the user_alpha parameter.\n",
    "# user_alpha – L2 penalty on user features.\n",
    "# max_sampled – maximum number of negative samples used during WARP fitting. It requires a lot of sampling to find negative triplets for users that are already well represented by the model; this can lead to very long training times and overfitting. Setting this to a higher number will generally lead to longer training times, but may in some cases improve accuracy.\n",
    "# random_state – The seed of the pseudo random number generator to use when shuffling the data and initializing the parameters.\n",
    "\n",
    "# model = LightFM(no_components=10,\n",
    "#                 loss='warp', # 'bpr'\n",
    "#                 learning_rate=0.05,\n",
    "#                 item_alpha=0.1, # смещение по товару\n",
    "#                 user_alpha=0.1,\n",
    "#                 random_state=42)\n",
    "\n",
    "\n",
    "model = LightFM(no_components = 10,\n",
    "                k = 5,\n",
    "                n = 10,\n",
    "                # learning_schedule = \"adagrad\",\n",
    "                loss = \"bpr\",\n",
    "                learning_rate = 0.05,\n",
    "                # rho = 0.95,\n",
    "                # epsilon = 1e-6,\n",
    "                item_alpha = 0.5,\n",
    "                user_alpha = 0.4,\n",
    "                # max_sampled = 20,\n",
    "                random_state = 42)\n",
    "\n",
    "model.fit((sparse_user_item > 0) * 1,  # user-item matrix из 0 и 1\n",
    "           sample_weight=c_ui,\n",
    "           user_features=csr_user,\n",
    "           item_features=csr_item,\n",
    "           epochs=15)\n",
    "\n",
    "test_precision = pr(model, sparse_user_item_test,\n",
    "                    user_features=csr_user,\n",
    "                    item_features=csr_item,\n",
    "                    k=5).mean()\n",
    "test_precision"
   ],
   "metadata": {
    "collapsed": false,
    "pycharm": {
     "name": "#%%\n"
    }
   }
  },
  {
   "cell_type": "code",
   "execution_count": 17,
   "outputs": [
    {
     "data": {
      "text/plain": "0.011407543"
     },
     "execution_count": 17,
     "metadata": {},
     "output_type": "execute_result"
    }
   ],
   "source": [
    "model = LightFM(no_components = 10,\n",
    "                k = 5,\n",
    "                n = 10,\n",
    "                # learning_schedule = \"adagrad\",\n",
    "                loss = \"bpr\",\n",
    "                learning_rate = 0.05,\n",
    "                # rho = 0.95,\n",
    "                # epsilon = 1e-6,\n",
    "                item_alpha = 0.5,\n",
    "                user_alpha = 0.4,\n",
    "                max_sampled = 12,\n",
    "                random_state = 42)\n",
    "\n",
    "0.011407543"
   ],
   "metadata": {
    "collapsed": false,
    "pycharm": {
     "name": "#%%\n"
    }
   }
  },
  {
   "cell_type": "code",
   "execution_count": 18,
   "outputs": [
    {
     "ename": "ValueError",
     "evalue": "You must fit the model before trying to obtain predictions.",
     "output_type": "error",
     "traceback": [
      "\u001B[1;31m---------------------------------------------------------------------------\u001B[0m",
      "\u001B[1;31mValueError\u001B[0m                                Traceback (most recent call last)",
      "\u001B[1;32m<ipython-input-18-ca125521c6ef>\u001B[0m in \u001B[0;36m<module>\u001B[1;34m\u001B[0m\n\u001B[1;32m----> 1\u001B[1;33m user_biases_emb = model.get_user_representations(\n\u001B[0m\u001B[0;32m      2\u001B[0m     \u001B[0mfeatures\u001B[0m\u001B[1;33m=\u001B[0m\u001B[0mcsr_matrix\u001B[0m\u001B[1;33m(\u001B[0m\u001B[0muser_feat_lightfm\u001B[0m\u001B[1;33m.\u001B[0m\u001B[0mvalues\u001B[0m\u001B[1;33m)\u001B[0m\u001B[1;33m.\u001B[0m\u001B[0mtocsr\u001B[0m\u001B[1;33m(\u001B[0m\u001B[1;33m)\u001B[0m\u001B[1;33m\u001B[0m\u001B[1;33m\u001B[0m\u001B[0m\n\u001B[0;32m      3\u001B[0m )\n",
      "\u001B[1;32m~\\AppData\\Roaming\\Python\\Python38\\site-packages\\lightfm\\lightfm.py\u001B[0m in \u001B[0;36mget_user_representations\u001B[1;34m(self, features)\u001B[0m\n\u001B[0;32m   1001\u001B[0m         \"\"\"\n\u001B[0;32m   1002\u001B[0m \u001B[1;33m\u001B[0m\u001B[0m\n\u001B[1;32m-> 1003\u001B[1;33m         \u001B[0mself\u001B[0m\u001B[1;33m.\u001B[0m\u001B[0m_check_initialized\u001B[0m\u001B[1;33m(\u001B[0m\u001B[1;33m)\u001B[0m\u001B[1;33m\u001B[0m\u001B[1;33m\u001B[0m\u001B[0m\n\u001B[0m\u001B[0;32m   1004\u001B[0m \u001B[1;33m\u001B[0m\u001B[0m\n\u001B[0;32m   1005\u001B[0m         \u001B[1;32mif\u001B[0m \u001B[0mfeatures\u001B[0m \u001B[1;32mis\u001B[0m \u001B[1;32mNone\u001B[0m\u001B[1;33m:\u001B[0m\u001B[1;33m\u001B[0m\u001B[1;33m\u001B[0m\u001B[0m\n",
      "\u001B[1;32m~\\AppData\\Roaming\\Python\\Python38\\site-packages\\lightfm\\lightfm.py\u001B[0m in \u001B[0;36m_check_initialized\u001B[1;34m(self)\u001B[0m\n\u001B[0;32m    258\u001B[0m \u001B[1;33m\u001B[0m\u001B[0m\n\u001B[0;32m    259\u001B[0m             \u001B[1;32mif\u001B[0m \u001B[0mvar\u001B[0m \u001B[1;32mis\u001B[0m \u001B[1;32mNone\u001B[0m\u001B[1;33m:\u001B[0m\u001B[1;33m\u001B[0m\u001B[1;33m\u001B[0m\u001B[0m\n\u001B[1;32m--> 260\u001B[1;33m                 raise ValueError(\n\u001B[0m\u001B[0;32m    261\u001B[0m                     \u001B[1;34m\"You must fit the model before \"\u001B[0m \u001B[1;34m\"trying to obtain predictions.\"\u001B[0m\u001B[1;33m\u001B[0m\u001B[1;33m\u001B[0m\u001B[0m\n\u001B[0;32m    262\u001B[0m                 )\n",
      "\u001B[1;31mValueError\u001B[0m: You must fit the model before trying to obtain predictions."
     ]
    }
   ],
   "source": [
    "user_biases_emb = model.get_user_representations(\n",
    "    features=csr_matrix(user_feat_lightfm.values).tocsr()\n",
    ")"
   ],
   "metadata": {
    "collapsed": false,
    "pycharm": {
     "name": "#%%\n"
    }
   }
  },
  {
   "cell_type": "code",
   "execution_count": null,
   "outputs": [],
   "source": [
    "item_biases_emb = model.get_item_representations(\n",
    "    features=csr_matrix(item_feat_lightfm.values).tocsr()\n",
    ")"
   ],
   "metadata": {
    "collapsed": false,
    "pycharm": {
     "name": "#%%\n"
    }
   }
  },
  {
   "cell_type": "code",
   "execution_count": null,
   "outputs": [],
   "source": [
    "train_precision = pr(model, sparse_user_item,\n",
    "                                 user_features=csr_matrix(user_feat_lightfm.values).tocsr(),\n",
    "                                 item_features=csr_matrix(item_feat_lightfm.values).tocsr(),\n",
    "                                 k=5).mean()"
   ],
   "metadata": {
    "collapsed": false,
    "pycharm": {
     "name": "#%%\n"
    }
   }
  },
  {
   "cell_type": "code",
   "execution_count": null,
   "outputs": [],
   "source": [
    "train_precision"
   ],
   "metadata": {
    "collapsed": false,
    "pycharm": {
     "name": "#%%\n"
    }
   }
  },
  {
   "cell_type": "code",
   "execution_count": null,
   "outputs": [],
   "source": [
    "test_precision = pr(model, sparse_user_item_test,\n",
    "                    user_features=csr_matrix(user_feat_lightfm.values).tocsr(),\n",
    "                    item_features=csr_matrix(item_feat_lightfm.values).tocsr(),\n",
    "                    k=5).mean()\n",
    "test_precision"
   ],
   "metadata": {
    "collapsed": false,
    "pycharm": {
     "name": "#%%\n"
    }
   }
  },
  {
   "cell_type": "code",
   "execution_count": null,
   "outputs": [],
   "source": [
    "test_item_ids = np.arange(len(itemids))\n",
    "\n",
    "predictions = model.predict(user_ids=6, item_ids=test_item_ids,\n",
    "                            user_features=csr_matrix(user_feat_lightfm.values).tocsr(),\n",
    "                            item_features=csr_matrix(item_feat_lightfm.values).tocsr(),\n",
    "                            num_threads=4)"
   ],
   "metadata": {
    "collapsed": false,
    "pycharm": {
     "name": "#%%\n"
    }
   }
  },
  {
   "cell_type": "code",
   "execution_count": null,
   "outputs": [],
   "source": [],
   "metadata": {
    "collapsed": false,
    "pycharm": {
     "name": "#%%\n"
    }
   }
  },
  {
   "cell_type": "code",
   "execution_count": null,
   "outputs": [],
   "source": [],
   "metadata": {
    "collapsed": false,
    "pycharm": {
     "name": "#%%\n"
    }
   }
  },
  {
   "cell_type": "code",
   "execution_count": null,
   "outputs": [],
   "source": [],
   "metadata": {
    "collapsed": false,
    "pycharm": {
     "name": "#%%\n"
    }
   }
  },
  {
   "cell_type": "code",
   "execution_count": null,
   "outputs": [],
   "source": [],
   "metadata": {
    "collapsed": false,
    "pycharm": {
     "name": "#%%\n"
    }
   }
  },
  {
   "cell_type": "code",
   "execution_count": null,
   "outputs": [],
   "source": [],
   "metadata": {
    "collapsed": false,
    "pycharm": {
     "name": "#%%\n"
    }
   }
  },
  {
   "cell_type": "code",
   "execution_count": null,
   "outputs": [],
   "source": [],
   "metadata": {
    "collapsed": false,
    "pycharm": {
     "name": "#%%\n"
    }
   }
  },
  {
   "cell_type": "markdown",
   "metadata": {
    "id": "hLnjWB6Lz8AD",
    "pycharm": {
     "name": "#%% md\n"
    }
   },
   "source": []
  },
  {
   "cell_type": "markdown",
   "metadata": {
    "id": "p3-DjadOz8AE",
    "pycharm": {
     "name": "#%% md\n"
    }
   },
   "source": [
    "\n"
   ]
  },
  {
   "cell_type": "code",
   "metadata": {
    "id": "gry2IYHKz8AE",
    "pycharm": {
     "name": "#%%\n"
    }
   },
   "source": [],
   "execution_count": null,
   "outputs": []
  },
  {
   "cell_type": "code",
   "metadata": {
    "id": "m8JdZSBnz8AF",
    "pycharm": {
     "name": "#%%\n"
    }
   },
   "source": [],
   "execution_count": null,
   "outputs": []
  },
  {
   "cell_type": "code",
   "metadata": {
    "id": "8kSXv81cz8AF",
    "pycharm": {
     "name": "#%%\n"
    }
   },
   "source": [],
   "execution_count": null,
   "outputs": []
  }
 ]
}